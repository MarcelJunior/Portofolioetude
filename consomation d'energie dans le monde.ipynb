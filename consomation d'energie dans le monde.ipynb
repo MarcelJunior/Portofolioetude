{
 "cells": [
  {
   "cell_type": "code",
   "execution_count": 1,
   "id": "a7faf1a6",
   "metadata": {},
   "outputs": [],
   "source": [
    "%matplotlib inline\n",
    "import math\n",
    "import numpy as np\n",
    "import pandas as pd\n",
    "import seaborn as sns\n",
    "import matplotlib.pyplot as plt\n",
    "from scipy import stats\n",
    "from statsmodels.stats.weightstats import ztest as ztest"
   ]
  },
  {
   "cell_type": "code",
   "execution_count": 2,
   "id": "f6b2fd48",
   "metadata": {},
   "outputs": [
    {
     "data": {
      "text/html": [
       "<div>\n",
       "<style scoped>\n",
       "    .dataframe tbody tr th:only-of-type {\n",
       "        vertical-align: middle;\n",
       "    }\n",
       "\n",
       "    .dataframe tbody tr th {\n",
       "        vertical-align: top;\n",
       "    }\n",
       "\n",
       "    .dataframe thead th {\n",
       "        text-align: right;\n",
       "    }\n",
       "</style>\n",
       "<table border=\"1\" class=\"dataframe\">\n",
       "  <thead>\n",
       "    <tr style=\"text-align: right;\">\n",
       "      <th></th>\n",
       "      <th>iso_code</th>\n",
       "      <th>country</th>\n",
       "      <th>year</th>\n",
       "      <th>coal_prod_change_pct</th>\n",
       "      <th>coal_prod_change_twh</th>\n",
       "      <th>gas_prod_change_pct</th>\n",
       "      <th>gas_prod_change_twh</th>\n",
       "      <th>oil_prod_change_pct</th>\n",
       "      <th>oil_prod_change_twh</th>\n",
       "      <th>energy_cons_change_pct</th>\n",
       "      <th>...</th>\n",
       "      <th>solar_elec_per_capita</th>\n",
       "      <th>solar_energy_per_capita</th>\n",
       "      <th>gdp</th>\n",
       "      <th>wind_share_elec</th>\n",
       "      <th>wind_cons_change_pct</th>\n",
       "      <th>wind_share_energy</th>\n",
       "      <th>wind_cons_change_twh</th>\n",
       "      <th>wind_consumption</th>\n",
       "      <th>wind_elec_per_capita</th>\n",
       "      <th>wind_energy_per_capita</th>\n",
       "    </tr>\n",
       "  </thead>\n",
       "  <tbody>\n",
       "    <tr>\n",
       "      <th>0</th>\n",
       "      <td>AFG</td>\n",
       "      <td>Afghanistan</td>\n",
       "      <td>1900</td>\n",
       "      <td>NaN</td>\n",
       "      <td>NaN</td>\n",
       "      <td>NaN</td>\n",
       "      <td>NaN</td>\n",
       "      <td>NaN</td>\n",
       "      <td>NaN</td>\n",
       "      <td>NaN</td>\n",
       "      <td>...</td>\n",
       "      <td>NaN</td>\n",
       "      <td>NaN</td>\n",
       "      <td>NaN</td>\n",
       "      <td>NaN</td>\n",
       "      <td>NaN</td>\n",
       "      <td>NaN</td>\n",
       "      <td>NaN</td>\n",
       "      <td>NaN</td>\n",
       "      <td>NaN</td>\n",
       "      <td>NaN</td>\n",
       "    </tr>\n",
       "    <tr>\n",
       "      <th>1</th>\n",
       "      <td>AFG</td>\n",
       "      <td>Afghanistan</td>\n",
       "      <td>1901</td>\n",
       "      <td>NaN</td>\n",
       "      <td>0.000</td>\n",
       "      <td>NaN</td>\n",
       "      <td>NaN</td>\n",
       "      <td>NaN</td>\n",
       "      <td>NaN</td>\n",
       "      <td>NaN</td>\n",
       "      <td>...</td>\n",
       "      <td>NaN</td>\n",
       "      <td>NaN</td>\n",
       "      <td>NaN</td>\n",
       "      <td>NaN</td>\n",
       "      <td>NaN</td>\n",
       "      <td>NaN</td>\n",
       "      <td>NaN</td>\n",
       "      <td>NaN</td>\n",
       "      <td>NaN</td>\n",
       "      <td>NaN</td>\n",
       "    </tr>\n",
       "    <tr>\n",
       "      <th>2</th>\n",
       "      <td>AFG</td>\n",
       "      <td>Afghanistan</td>\n",
       "      <td>1902</td>\n",
       "      <td>NaN</td>\n",
       "      <td>0.000</td>\n",
       "      <td>NaN</td>\n",
       "      <td>NaN</td>\n",
       "      <td>NaN</td>\n",
       "      <td>NaN</td>\n",
       "      <td>NaN</td>\n",
       "      <td>...</td>\n",
       "      <td>NaN</td>\n",
       "      <td>NaN</td>\n",
       "      <td>NaN</td>\n",
       "      <td>NaN</td>\n",
       "      <td>NaN</td>\n",
       "      <td>NaN</td>\n",
       "      <td>NaN</td>\n",
       "      <td>NaN</td>\n",
       "      <td>NaN</td>\n",
       "      <td>NaN</td>\n",
       "    </tr>\n",
       "    <tr>\n",
       "      <th>3</th>\n",
       "      <td>AFG</td>\n",
       "      <td>Afghanistan</td>\n",
       "      <td>1903</td>\n",
       "      <td>NaN</td>\n",
       "      <td>0.000</td>\n",
       "      <td>NaN</td>\n",
       "      <td>NaN</td>\n",
       "      <td>NaN</td>\n",
       "      <td>NaN</td>\n",
       "      <td>NaN</td>\n",
       "      <td>...</td>\n",
       "      <td>NaN</td>\n",
       "      <td>NaN</td>\n",
       "      <td>NaN</td>\n",
       "      <td>NaN</td>\n",
       "      <td>NaN</td>\n",
       "      <td>NaN</td>\n",
       "      <td>NaN</td>\n",
       "      <td>NaN</td>\n",
       "      <td>NaN</td>\n",
       "      <td>NaN</td>\n",
       "    </tr>\n",
       "    <tr>\n",
       "      <th>4</th>\n",
       "      <td>AFG</td>\n",
       "      <td>Afghanistan</td>\n",
       "      <td>1904</td>\n",
       "      <td>NaN</td>\n",
       "      <td>0.000</td>\n",
       "      <td>NaN</td>\n",
       "      <td>NaN</td>\n",
       "      <td>NaN</td>\n",
       "      <td>NaN</td>\n",
       "      <td>NaN</td>\n",
       "      <td>...</td>\n",
       "      <td>NaN</td>\n",
       "      <td>NaN</td>\n",
       "      <td>NaN</td>\n",
       "      <td>NaN</td>\n",
       "      <td>NaN</td>\n",
       "      <td>NaN</td>\n",
       "      <td>NaN</td>\n",
       "      <td>NaN</td>\n",
       "      <td>NaN</td>\n",
       "      <td>NaN</td>\n",
       "    </tr>\n",
       "    <tr>\n",
       "      <th>...</th>\n",
       "      <td>...</td>\n",
       "      <td>...</td>\n",
       "      <td>...</td>\n",
       "      <td>...</td>\n",
       "      <td>...</td>\n",
       "      <td>...</td>\n",
       "      <td>...</td>\n",
       "      <td>...</td>\n",
       "      <td>...</td>\n",
       "      <td>...</td>\n",
       "      <td>...</td>\n",
       "      <td>...</td>\n",
       "      <td>...</td>\n",
       "      <td>...</td>\n",
       "      <td>...</td>\n",
       "      <td>...</td>\n",
       "      <td>...</td>\n",
       "      <td>...</td>\n",
       "      <td>...</td>\n",
       "      <td>...</td>\n",
       "      <td>...</td>\n",
       "    </tr>\n",
       "    <tr>\n",
       "      <th>17427</th>\n",
       "      <td>ZWE</td>\n",
       "      <td>Zimbabwe</td>\n",
       "      <td>2015</td>\n",
       "      <td>-25.013</td>\n",
       "      <td>-10.847</td>\n",
       "      <td>NaN</td>\n",
       "      <td>NaN</td>\n",
       "      <td>NaN</td>\n",
       "      <td>NaN</td>\n",
       "      <td>-0.789</td>\n",
       "      <td>...</td>\n",
       "      <td>0.579</td>\n",
       "      <td>NaN</td>\n",
       "      <td>25030569984</td>\n",
       "      <td>0.0</td>\n",
       "      <td>NaN</td>\n",
       "      <td>NaN</td>\n",
       "      <td>NaN</td>\n",
       "      <td>NaN</td>\n",
       "      <td>0.0</td>\n",
       "      <td>NaN</td>\n",
       "    </tr>\n",
       "    <tr>\n",
       "      <th>17428</th>\n",
       "      <td>ZWE</td>\n",
       "      <td>Zimbabwe</td>\n",
       "      <td>2016</td>\n",
       "      <td>-37.694</td>\n",
       "      <td>-12.257</td>\n",
       "      <td>NaN</td>\n",
       "      <td>NaN</td>\n",
       "      <td>NaN</td>\n",
       "      <td>NaN</td>\n",
       "      <td>-14.633</td>\n",
       "      <td>...</td>\n",
       "      <td>0.641</td>\n",
       "      <td>NaN</td>\n",
       "      <td>25151762432</td>\n",
       "      <td>0.0</td>\n",
       "      <td>NaN</td>\n",
       "      <td>NaN</td>\n",
       "      <td>NaN</td>\n",
       "      <td>NaN</td>\n",
       "      <td>0.0</td>\n",
       "      <td>NaN</td>\n",
       "    </tr>\n",
       "    <tr>\n",
       "      <th>17429</th>\n",
       "      <td>ZWE</td>\n",
       "      <td>Zimbabwe</td>\n",
       "      <td>2017</td>\n",
       "      <td>8.375</td>\n",
       "      <td>1.697</td>\n",
       "      <td>NaN</td>\n",
       "      <td>NaN</td>\n",
       "      <td>NaN</td>\n",
       "      <td>NaN</td>\n",
       "      <td>NaN</td>\n",
       "      <td>...</td>\n",
       "      <td>0.773</td>\n",
       "      <td>NaN</td>\n",
       "      <td>NaN</td>\n",
       "      <td>0.0</td>\n",
       "      <td>NaN</td>\n",
       "      <td>NaN</td>\n",
       "      <td>NaN</td>\n",
       "      <td>NaN</td>\n",
       "      <td>0.0</td>\n",
       "      <td>NaN</td>\n",
       "    </tr>\n",
       "    <tr>\n",
       "      <th>17430</th>\n",
       "      <td>ZWE</td>\n",
       "      <td>Zimbabwe</td>\n",
       "      <td>2018</td>\n",
       "      <td>22.555</td>\n",
       "      <td>4.952</td>\n",
       "      <td>NaN</td>\n",
       "      <td>NaN</td>\n",
       "      <td>NaN</td>\n",
       "      <td>NaN</td>\n",
       "      <td>NaN</td>\n",
       "      <td>...</td>\n",
       "      <td>0.970</td>\n",
       "      <td>NaN</td>\n",
       "      <td>NaN</td>\n",
       "      <td>0.0</td>\n",
       "      <td>NaN</td>\n",
       "      <td>NaN</td>\n",
       "      <td>NaN</td>\n",
       "      <td>NaN</td>\n",
       "      <td>0.0</td>\n",
       "      <td>NaN</td>\n",
       "    </tr>\n",
       "    <tr>\n",
       "      <th>17431</th>\n",
       "      <td>ZWE</td>\n",
       "      <td>Zimbabwe</td>\n",
       "      <td>2019</td>\n",
       "      <td>-35.015</td>\n",
       "      <td>-9.422</td>\n",
       "      <td>NaN</td>\n",
       "      <td>NaN</td>\n",
       "      <td>NaN</td>\n",
       "      <td>NaN</td>\n",
       "      <td>NaN</td>\n",
       "      <td>...</td>\n",
       "      <td>0.956</td>\n",
       "      <td>NaN</td>\n",
       "      <td>NaN</td>\n",
       "      <td>0.0</td>\n",
       "      <td>NaN</td>\n",
       "      <td>NaN</td>\n",
       "      <td>NaN</td>\n",
       "      <td>NaN</td>\n",
       "      <td>0.0</td>\n",
       "      <td>NaN</td>\n",
       "    </tr>\n",
       "  </tbody>\n",
       "</table>\n",
       "<p>17432 rows × 122 columns</p>\n",
       "</div>"
      ],
      "text/plain": [
       "      iso_code      country  year  coal_prod_change_pct  coal_prod_change_twh  \\\n",
       "0          AFG  Afghanistan  1900                   NaN                   NaN   \n",
       "1          AFG  Afghanistan  1901                   NaN                 0.000   \n",
       "2          AFG  Afghanistan  1902                   NaN                 0.000   \n",
       "3          AFG  Afghanistan  1903                   NaN                 0.000   \n",
       "4          AFG  Afghanistan  1904                   NaN                 0.000   \n",
       "...        ...          ...   ...                   ...                   ...   \n",
       "17427      ZWE     Zimbabwe  2015               -25.013               -10.847   \n",
       "17428      ZWE     Zimbabwe  2016               -37.694               -12.257   \n",
       "17429      ZWE     Zimbabwe  2017                 8.375                 1.697   \n",
       "17430      ZWE     Zimbabwe  2018                22.555                 4.952   \n",
       "17431      ZWE     Zimbabwe  2019               -35.015                -9.422   \n",
       "\n",
       "       gas_prod_change_pct  gas_prod_change_twh  oil_prod_change_pct  \\\n",
       "0                      NaN                  NaN                  NaN   \n",
       "1                      NaN                  NaN                  NaN   \n",
       "2                      NaN                  NaN                  NaN   \n",
       "3                      NaN                  NaN                  NaN   \n",
       "4                      NaN                  NaN                  NaN   \n",
       "...                    ...                  ...                  ...   \n",
       "17427                  NaN                  NaN                  NaN   \n",
       "17428                  NaN                  NaN                  NaN   \n",
       "17429                  NaN                  NaN                  NaN   \n",
       "17430                  NaN                  NaN                  NaN   \n",
       "17431                  NaN                  NaN                  NaN   \n",
       "\n",
       "       oil_prod_change_twh  energy_cons_change_pct  ...  \\\n",
       "0                      NaN                     NaN  ...   \n",
       "1                      NaN                     NaN  ...   \n",
       "2                      NaN                     NaN  ...   \n",
       "3                      NaN                     NaN  ...   \n",
       "4                      NaN                     NaN  ...   \n",
       "...                    ...                     ...  ...   \n",
       "17427                  NaN                  -0.789  ...   \n",
       "17428                  NaN                 -14.633  ...   \n",
       "17429                  NaN                     NaN  ...   \n",
       "17430                  NaN                     NaN  ...   \n",
       "17431                  NaN                     NaN  ...   \n",
       "\n",
       "       solar_elec_per_capita  solar_energy_per_capita          gdp  \\\n",
       "0                        NaN                      NaN          NaN   \n",
       "1                        NaN                      NaN          NaN   \n",
       "2                        NaN                      NaN          NaN   \n",
       "3                        NaN                      NaN          NaN   \n",
       "4                        NaN                      NaN          NaN   \n",
       "...                      ...                      ...          ...   \n",
       "17427                  0.579                      NaN  25030569984   \n",
       "17428                  0.641                      NaN  25151762432   \n",
       "17429                  0.773                      NaN          NaN   \n",
       "17430                  0.970                      NaN          NaN   \n",
       "17431                  0.956                      NaN          NaN   \n",
       "\n",
       "       wind_share_elec  wind_cons_change_pct  wind_share_energy  \\\n",
       "0                  NaN                   NaN                NaN   \n",
       "1                  NaN                   NaN                NaN   \n",
       "2                  NaN                   NaN                NaN   \n",
       "3                  NaN                   NaN                NaN   \n",
       "4                  NaN                   NaN                NaN   \n",
       "...                ...                   ...                ...   \n",
       "17427              0.0                   NaN                NaN   \n",
       "17428              0.0                   NaN                NaN   \n",
       "17429              0.0                   NaN                NaN   \n",
       "17430              0.0                   NaN                NaN   \n",
       "17431              0.0                   NaN                NaN   \n",
       "\n",
       "       wind_cons_change_twh  wind_consumption  wind_elec_per_capita  \\\n",
       "0                       NaN               NaN                   NaN   \n",
       "1                       NaN               NaN                   NaN   \n",
       "2                       NaN               NaN                   NaN   \n",
       "3                       NaN               NaN                   NaN   \n",
       "4                       NaN               NaN                   NaN   \n",
       "...                     ...               ...                   ...   \n",
       "17427                   NaN               NaN                   0.0   \n",
       "17428                   NaN               NaN                   0.0   \n",
       "17429                   NaN               NaN                   0.0   \n",
       "17430                   NaN               NaN                   0.0   \n",
       "17431                   NaN               NaN                   0.0   \n",
       "\n",
       "       wind_energy_per_capita  \n",
       "0                         NaN  \n",
       "1                         NaN  \n",
       "2                         NaN  \n",
       "3                         NaN  \n",
       "4                         NaN  \n",
       "...                       ...  \n",
       "17427                     NaN  \n",
       "17428                     NaN  \n",
       "17429                     NaN  \n",
       "17430                     NaN  \n",
       "17431                     NaN  \n",
       "\n",
       "[17432 rows x 122 columns]"
      ]
     },
     "execution_count": 2,
     "metadata": {},
     "output_type": "execute_result"
    }
   ],
   "source": [
    "data = pd.read_csv('C:/Users/mbond/Downloads/portofoliodata/portofoliopython/energyconsomtion.csv', delimiter=';')\n",
    "data"
   ]
  },
  {
   "cell_type": "code",
   "execution_count": 29,
   "id": "a07cdddc",
   "metadata": {},
   "outputs": [],
   "source": [
    "# nous allons étudier la consommation mondiale du pétrole et en Afrique\n",
    "# drop unwanted columns\n",
    "# Liste des colonnes à conserver\n",
    "data = pd.read_csv('C:/Users/mbond/Downloads/portofoliodata/portofoliopython/energyconsomtion.csv', delimiter=';')\n",
    "\n",
    "# Liste des colonnes à supprimer\n",
    "colonnes_a_conserver = [\n",
    "    'country', 'year', 'electricity_share_energy', 'fossil_elec_per_capita',\n",
    "    'oil_consumption', 'oil_production'],\n",
    "\n",
    "# Supprimer toutes les colonnes qui ne sont pas dans la liste\n",
    "colonnes_a_supprimer = [col for col in data.columns if col not in colonnes_a_conserver]\n",
    "data = data.drop(columns=colonnes_a_supprimer)\n",
    "\n",
    "# Supprimer les lignes avec des valeurs manquantes\n",
    "data_drop_na = data.dropna()\n",
    "\n",
    "# Supprimer les enregistrements avec oil_consumption = 0\n",
    "data_drop_oil_zero = data_drop_na[data_drop_na['oil_consumption'] > 0]"
   ]
  },
  {
   "cell_type": "code",
   "execution_count": 44,
   "id": "a6262ce0",
   "metadata": {},
   "outputs": [
    {
     "name": "stdout",
     "output_type": "stream",
     "text": [
      "     country  year  oil_consumption  oil_production\n",
      "0     Africa  1965          325.901        1233.096\n",
      "1     Africa  1966          356.710        1569.275\n",
      "2     Africa  1967          353.833        1726.330\n",
      "3     Africa  1968          373.394        2212.528\n",
      "4     Africa  1969          378.536        2813.719\n",
      "...      ...   ...              ...             ...\n",
      "2482   World  2015        50891.976       50658.259\n",
      "2483   World  2016        51920.156       50843.437\n",
      "2484   World  2017        52567.520       51013.260\n",
      "2485   World  2018        53181.125       52244.640\n",
      "2486   World  2019        53619.925       52069.986\n",
      "\n",
      "[2487 rows x 4 columns]\n"
     ]
    }
   ],
   "source": [
    "# Supprimer les lignes avec des valeurs manquantes\n",
    "data_cleaned = data.dropna()\n",
    "\n",
    "# Supprimer les enregistrements où oil_consumption est égale à zéro\n",
    "data_cleaned = data_cleaned[data_cleaned['oil_consumption'] != 0]\n",
    "\n",
    "# Réindexer le DataFrame après la suppression\n",
    "data_cleaned = data_cleaned.reset_index(drop=True)\n",
    "\n",
    "# Afficher le DataFrame résultant\n",
    "print(data_cleaned)\n"
   ]
  },
  {
   "cell_type": "code",
   "execution_count": 137,
   "id": "3fb947e8",
   "metadata": {},
   "outputs": [
    {
     "data": {
      "image/png": "[encoded data removed]",
      "text/plain": [
       "<Figure size 1200x600 with 2 Axes>"
      ]
     },
     "metadata": {},
     "output_type": "display_data"
    }
   ],
   "source": [
    "# Filtrer les données pour obtenir deux DataFrames distincts : avant et après 2000\n",
    "data_before_2000 = data[data['year'] < 2000]\n",
    "data_after_2000 = data[data['year'] >= 2000]\n",
    "\n",
    "# Calculer la somme de la consommation de pétrole par année pour chaque DataFrame\n",
    "consumption_before_2000 = data_before_2000.groupby('year')['oil_consumption'].sum()\n",
    "consumption_after_2000 = data_after_2000.groupby('year')['oil_consumption'].sum()\n",
    "\n",
    "# Créer un graphique avec deux sous-graphiques sur un même plan\n",
    "plt.figure(figsize=(12, 6))\n",
    "\n",
    "# Premier sous-graphique : avant 2000\n",
    "plt.subplot(1, 2, 1)\n",
    "plt.plot(consumption_before_2000.index, consumption_before_2000.values, label='Consommation avant 2000')\n",
    "plt.title('Consommation de pétrole avant 2000')\n",
    "plt.xlabel('Année')\n",
    "plt.ylabel('Consommation de pétrole')\n",
    "plt.legend()\n",
    "\n",
    "# Deuxième sous-graphique : après 2000\n",
    "plt.subplot(1, 2, 2)\n",
    "plt.plot(consumption_after_2000.index, consumption_after_2000.values, label='Consommation après 2000', color='orange')\n",
    "plt.title('Consommation de pétrole après 2000')\n",
    "plt.xlabel('Année')\n",
    "plt.ylabel('Consommation de pétrole')\n",
    "plt.legend()\n",
    "\n",
    "# Ajuster l'espacement entre les sous-graphiques\n",
    "plt.tight_layout()\n",
    "\n",
    "# Afficher le graphique\n",
    "plt.show()\n"
   ]
  },
  {
   "cell_type": "code",
   "execution_count": 18,
   "id": "c2aa6824",
   "metadata": {},
   "outputs": [],
   "source": [
    "# Supprimer toutes les lignes où la colonne \"country\" est égale à \"World\"\n",
    "data = data[data['country'] != 'World']"
   ]
  },
  {
   "cell_type": "code",
   "execution_count": 21,
   "id": "0ad283d0",
   "metadata": {},
   "outputs": [
    {
     "data": {
      "image/png": "[encoded data removed]",
      "text/plain": [
       "<Figure size 1200x600 with 2 Axes>"
      ]
     },
     "metadata": {},
     "output_type": "display_data"
    }
   ],
   "source": [
    "\n",
    "# Filtrer les données pour obtenir celles avant et après l'année 2000\n",
    "avant_2000 = data[data['year'] < 2000]\n",
    "apres_2000 = data[data['year'] >= 2000]\n",
    "\n",
    "# Créer un histogramme pour la consommation de pétrole avant 2000\n",
    "plt.figure(figsize=(12, 6))\n",
    "plt.subplot(1, 2, 1)  # Crée la première sous-trace\n",
    "plt.hist(avant_2000['oil_consumption'], bins=20, color='blue', alpha=0.7)\n",
    "plt.title('Consommation de pétrole avant 2000')\n",
    "plt.xlabel('Consommation de pétrole')\n",
    "plt.ylabel('Nombre de pays')\n",
    "\n",
    "# Créer un histogramme pour la consommation de pétrole après 2000\n",
    "plt.subplot(1, 2, 2)  # Crée la deuxième sous-trace\n",
    "plt.hist(apres_2000['oil_consumption'], bins=20, color='green', alpha=0.7)\n",
    "plt.title('Consommation de pétrole après 2000')\n",
    "plt.xlabel('Consommation de pétrole')\n",
    "plt.ylabel('count')\n",
    "\n",
    "# Afficher les deux histogrammes sur le même graphique\n",
    "plt.tight_layout()  # Pour éviter que les graphiques se chevauchent\n",
    "plt.show()\n"
   ]
  },
  {
   "cell_type": "code",
   "execution_count": 85,
   "id": "713ea320",
   "metadata": {},
   "outputs": [
    {
     "data": {
      "text/html": [
       "<div>\n",
       "<style scoped>\n",
       "    .dataframe tbody tr th:only-of-type {\n",
       "        vertical-align: middle;\n",
       "    }\n",
       "\n",
       "    .dataframe tbody tr th {\n",
       "        vertical-align: top;\n",
       "    }\n",
       "\n",
       "    .dataframe thead th {\n",
       "        text-align: right;\n",
       "    }\n",
       "</style>\n",
       "<table border=\"1\" class=\"dataframe\">\n",
       "  <thead>\n",
       "    <tr style=\"text-align: right;\">\n",
       "      <th></th>\n",
       "      <th>iso_code</th>\n",
       "      <th>country</th>\n",
       "      <th>year</th>\n",
       "      <th>coal_prod_change_pct</th>\n",
       "      <th>coal_prod_change_twh</th>\n",
       "      <th>gas_prod_change_pct</th>\n",
       "      <th>gas_prod_change_twh</th>\n",
       "      <th>oil_prod_change_pct</th>\n",
       "      <th>oil_prod_change_twh</th>\n",
       "      <th>energy_cons_change_pct</th>\n",
       "      <th>...</th>\n",
       "      <th>solar_elec_per_capita</th>\n",
       "      <th>solar_energy_per_capita</th>\n",
       "      <th>gdp</th>\n",
       "      <th>wind_share_elec</th>\n",
       "      <th>wind_cons_change_pct</th>\n",
       "      <th>wind_share_energy</th>\n",
       "      <th>wind_cons_change_twh</th>\n",
       "      <th>wind_consumption</th>\n",
       "      <th>wind_elec_per_capita</th>\n",
       "      <th>wind_energy_per_capita</th>\n",
       "    </tr>\n",
       "  </thead>\n",
       "  <tbody>\n",
       "    <tr>\n",
       "      <th>0</th>\n",
       "      <td>AFG</td>\n",
       "      <td>Afghanistan</td>\n",
       "      <td>1900</td>\n",
       "      <td>NaN</td>\n",
       "      <td>NaN</td>\n",
       "      <td>NaN</td>\n",
       "      <td>NaN</td>\n",
       "      <td>NaN</td>\n",
       "      <td>NaN</td>\n",
       "      <td>NaN</td>\n",
       "      <td>...</td>\n",
       "      <td>NaN</td>\n",
       "      <td>NaN</td>\n",
       "      <td>NaN</td>\n",
       "      <td>NaN</td>\n",
       "      <td>NaN</td>\n",
       "      <td>NaN</td>\n",
       "      <td>NaN</td>\n",
       "      <td>NaN</td>\n",
       "      <td>NaN</td>\n",
       "      <td>NaN</td>\n",
       "    </tr>\n",
       "    <tr>\n",
       "      <th>1</th>\n",
       "      <td>AFG</td>\n",
       "      <td>Afghanistan</td>\n",
       "      <td>1901</td>\n",
       "      <td>NaN</td>\n",
       "      <td>0.000</td>\n",
       "      <td>NaN</td>\n",
       "      <td>NaN</td>\n",
       "      <td>NaN</td>\n",
       "      <td>NaN</td>\n",
       "      <td>NaN</td>\n",
       "      <td>...</td>\n",
       "      <td>NaN</td>\n",
       "      <td>NaN</td>\n",
       "      <td>NaN</td>\n",
       "      <td>NaN</td>\n",
       "      <td>NaN</td>\n",
       "      <td>NaN</td>\n",
       "      <td>NaN</td>\n",
       "      <td>NaN</td>\n",
       "      <td>NaN</td>\n",
       "      <td>NaN</td>\n",
       "    </tr>\n",
       "    <tr>\n",
       "      <th>2</th>\n",
       "      <td>AFG</td>\n",
       "      <td>Afghanistan</td>\n",
       "      <td>1902</td>\n",
       "      <td>NaN</td>\n",
       "      <td>0.000</td>\n",
       "      <td>NaN</td>\n",
       "      <td>NaN</td>\n",
       "      <td>NaN</td>\n",
       "      <td>NaN</td>\n",
       "      <td>NaN</td>\n",
       "      <td>...</td>\n",
       "      <td>NaN</td>\n",
       "      <td>NaN</td>\n",
       "      <td>NaN</td>\n",
       "      <td>NaN</td>\n",
       "      <td>NaN</td>\n",
       "      <td>NaN</td>\n",
       "      <td>NaN</td>\n",
       "      <td>NaN</td>\n",
       "      <td>NaN</td>\n",
       "      <td>NaN</td>\n",
       "    </tr>\n",
       "    <tr>\n",
       "      <th>3</th>\n",
       "      <td>AFG</td>\n",
       "      <td>Afghanistan</td>\n",
       "      <td>1903</td>\n",
       "      <td>NaN</td>\n",
       "      <td>0.000</td>\n",
       "      <td>NaN</td>\n",
       "      <td>NaN</td>\n",
       "      <td>NaN</td>\n",
       "      <td>NaN</td>\n",
       "      <td>NaN</td>\n",
       "      <td>...</td>\n",
       "      <td>NaN</td>\n",
       "      <td>NaN</td>\n",
       "      <td>NaN</td>\n",
       "      <td>NaN</td>\n",
       "      <td>NaN</td>\n",
       "      <td>NaN</td>\n",
       "      <td>NaN</td>\n",
       "      <td>NaN</td>\n",
       "      <td>NaN</td>\n",
       "      <td>NaN</td>\n",
       "    </tr>\n",
       "    <tr>\n",
       "      <th>4</th>\n",
       "      <td>AFG</td>\n",
       "      <td>Afghanistan</td>\n",
       "      <td>1904</td>\n",
       "      <td>NaN</td>\n",
       "      <td>0.000</td>\n",
       "      <td>NaN</td>\n",
       "      <td>NaN</td>\n",
       "      <td>NaN</td>\n",
       "      <td>NaN</td>\n",
       "      <td>NaN</td>\n",
       "      <td>...</td>\n",
       "      <td>NaN</td>\n",
       "      <td>NaN</td>\n",
       "      <td>NaN</td>\n",
       "      <td>NaN</td>\n",
       "      <td>NaN</td>\n",
       "      <td>NaN</td>\n",
       "      <td>NaN</td>\n",
       "      <td>NaN</td>\n",
       "      <td>NaN</td>\n",
       "      <td>NaN</td>\n",
       "    </tr>\n",
       "    <tr>\n",
       "      <th>...</th>\n",
       "      <td>...</td>\n",
       "      <td>...</td>\n",
       "      <td>...</td>\n",
       "      <td>...</td>\n",
       "      <td>...</td>\n",
       "      <td>...</td>\n",
       "      <td>...</td>\n",
       "      <td>...</td>\n",
       "      <td>...</td>\n",
       "      <td>...</td>\n",
       "      <td>...</td>\n",
       "      <td>...</td>\n",
       "      <td>...</td>\n",
       "      <td>...</td>\n",
       "      <td>...</td>\n",
       "      <td>...</td>\n",
       "      <td>...</td>\n",
       "      <td>...</td>\n",
       "      <td>...</td>\n",
       "      <td>...</td>\n",
       "      <td>...</td>\n",
       "    </tr>\n",
       "    <tr>\n",
       "      <th>17427</th>\n",
       "      <td>ZWE</td>\n",
       "      <td>Zimbabwe</td>\n",
       "      <td>2015</td>\n",
       "      <td>-25.013</td>\n",
       "      <td>-10.847</td>\n",
       "      <td>NaN</td>\n",
       "      <td>NaN</td>\n",
       "      <td>NaN</td>\n",
       "      <td>NaN</td>\n",
       "      <td>-0.789</td>\n",
       "      <td>...</td>\n",
       "      <td>0.579</td>\n",
       "      <td>NaN</td>\n",
       "      <td>25030569984</td>\n",
       "      <td>0.0</td>\n",
       "      <td>NaN</td>\n",
       "      <td>NaN</td>\n",
       "      <td>NaN</td>\n",
       "      <td>NaN</td>\n",
       "      <td>0.0</td>\n",
       "      <td>NaN</td>\n",
       "    </tr>\n",
       "    <tr>\n",
       "      <th>17428</th>\n",
       "      <td>ZWE</td>\n",
       "      <td>Zimbabwe</td>\n",
       "      <td>2016</td>\n",
       "      <td>-37.694</td>\n",
       "      <td>-12.257</td>\n",
       "      <td>NaN</td>\n",
       "      <td>NaN</td>\n",
       "      <td>NaN</td>\n",
       "      <td>NaN</td>\n",
       "      <td>-14.633</td>\n",
       "      <td>...</td>\n",
       "      <td>0.641</td>\n",
       "      <td>NaN</td>\n",
       "      <td>25151762432</td>\n",
       "      <td>0.0</td>\n",
       "      <td>NaN</td>\n",
       "      <td>NaN</td>\n",
       "      <td>NaN</td>\n",
       "      <td>NaN</td>\n",
       "      <td>0.0</td>\n",
       "      <td>NaN</td>\n",
       "    </tr>\n",
       "    <tr>\n",
       "      <th>17429</th>\n",
       "      <td>ZWE</td>\n",
       "      <td>Zimbabwe</td>\n",
       "      <td>2017</td>\n",
       "      <td>8.375</td>\n",
       "      <td>1.697</td>\n",
       "      <td>NaN</td>\n",
       "      <td>NaN</td>\n",
       "      <td>NaN</td>\n",
       "      <td>NaN</td>\n",
       "      <td>NaN</td>\n",
       "      <td>...</td>\n",
       "      <td>0.773</td>\n",
       "      <td>NaN</td>\n",
       "      <td>NaN</td>\n",
       "      <td>0.0</td>\n",
       "      <td>NaN</td>\n",
       "      <td>NaN</td>\n",
       "      <td>NaN</td>\n",
       "      <td>NaN</td>\n",
       "      <td>0.0</td>\n",
       "      <td>NaN</td>\n",
       "    </tr>\n",
       "    <tr>\n",
       "      <th>17430</th>\n",
       "      <td>ZWE</td>\n",
       "      <td>Zimbabwe</td>\n",
       "      <td>2018</td>\n",
       "      <td>22.555</td>\n",
       "      <td>4.952</td>\n",
       "      <td>NaN</td>\n",
       "      <td>NaN</td>\n",
       "      <td>NaN</td>\n",
       "      <td>NaN</td>\n",
       "      <td>NaN</td>\n",
       "      <td>...</td>\n",
       "      <td>0.970</td>\n",
       "      <td>NaN</td>\n",
       "      <td>NaN</td>\n",
       "      <td>0.0</td>\n",
       "      <td>NaN</td>\n",
       "      <td>NaN</td>\n",
       "      <td>NaN</td>\n",
       "      <td>NaN</td>\n",
       "      <td>0.0</td>\n",
       "      <td>NaN</td>\n",
       "    </tr>\n",
       "    <tr>\n",
       "      <th>17431</th>\n",
       "      <td>ZWE</td>\n",
       "      <td>Zimbabwe</td>\n",
       "      <td>2019</td>\n",
       "      <td>-35.015</td>\n",
       "      <td>-9.422</td>\n",
       "      <td>NaN</td>\n",
       "      <td>NaN</td>\n",
       "      <td>NaN</td>\n",
       "      <td>NaN</td>\n",
       "      <td>NaN</td>\n",
       "      <td>...</td>\n",
       "      <td>0.956</td>\n",
       "      <td>NaN</td>\n",
       "      <td>NaN</td>\n",
       "      <td>0.0</td>\n",
       "      <td>NaN</td>\n",
       "      <td>NaN</td>\n",
       "      <td>NaN</td>\n",
       "      <td>NaN</td>\n",
       "      <td>0.0</td>\n",
       "      <td>NaN</td>\n",
       "    </tr>\n",
       "  </tbody>\n",
       "</table>\n",
       "<p>17432 rows × 122 columns</p>\n",
       "</div>"
      ],
      "text/plain": [
       "      iso_code      country  year  coal_prod_change_pct  coal_prod_change_twh  \\\n",
       "0          AFG  Afghanistan  1900                   NaN                   NaN   \n",
       "1          AFG  Afghanistan  1901                   NaN                 0.000   \n",
       "2          AFG  Afghanistan  1902                   NaN                 0.000   \n",
       "3          AFG  Afghanistan  1903                   NaN                 0.000   \n",
       "4          AFG  Afghanistan  1904                   NaN                 0.000   \n",
       "...        ...          ...   ...                   ...                   ...   \n",
       "17427      ZWE     Zimbabwe  2015               -25.013               -10.847   \n",
       "17428      ZWE     Zimbabwe  2016               -37.694               -12.257   \n",
       "17429      ZWE     Zimbabwe  2017                 8.375                 1.697   \n",
       "17430      ZWE     Zimbabwe  2018                22.555                 4.952   \n",
       "17431      ZWE     Zimbabwe  2019               -35.015                -9.422   \n",
       "\n",
       "       gas_prod_change_pct  gas_prod_change_twh  oil_prod_change_pct  \\\n",
       "0                      NaN                  NaN                  NaN   \n",
       "1                      NaN                  NaN                  NaN   \n",
       "2                      NaN                  NaN                  NaN   \n",
       "3                      NaN                  NaN                  NaN   \n",
       "4                      NaN                  NaN                  NaN   \n",
       "...                    ...                  ...                  ...   \n",
       "17427                  NaN                  NaN                  NaN   \n",
       "17428                  NaN                  NaN                  NaN   \n",
       "17429                  NaN                  NaN                  NaN   \n",
       "17430                  NaN                  NaN                  NaN   \n",
       "17431                  NaN                  NaN                  NaN   \n",
       "\n",
       "       oil_prod_change_twh  energy_cons_change_pct  ...  \\\n",
       "0                      NaN                     NaN  ...   \n",
       "1                      NaN                     NaN  ...   \n",
       "2                      NaN                     NaN  ...   \n",
       "3                      NaN                     NaN  ...   \n",
       "4                      NaN                     NaN  ...   \n",
       "...                    ...                     ...  ...   \n",
       "17427                  NaN                  -0.789  ...   \n",
       "17428                  NaN                 -14.633  ...   \n",
       "17429                  NaN                     NaN  ...   \n",
       "17430                  NaN                     NaN  ...   \n",
       "17431                  NaN                     NaN  ...   \n",
       "\n",
       "       solar_elec_per_capita  solar_energy_per_capita          gdp  \\\n",
       "0                        NaN                      NaN          NaN   \n",
       "1                        NaN                      NaN          NaN   \n",
       "2                        NaN                      NaN          NaN   \n",
       "3                        NaN                      NaN          NaN   \n",
       "4                        NaN                      NaN          NaN   \n",
       "...                      ...                      ...          ...   \n",
       "17427                  0.579                      NaN  25030569984   \n",
       "17428                  0.641                      NaN  25151762432   \n",
       "17429                  0.773                      NaN          NaN   \n",
       "17430                  0.970                      NaN          NaN   \n",
       "17431                  0.956                      NaN          NaN   \n",
       "\n",
       "       wind_share_elec  wind_cons_change_pct  wind_share_energy  \\\n",
       "0                  NaN                   NaN                NaN   \n",
       "1                  NaN                   NaN                NaN   \n",
       "2                  NaN                   NaN                NaN   \n",
       "3                  NaN                   NaN                NaN   \n",
       "4                  NaN                   NaN                NaN   \n",
       "...                ...                   ...                ...   \n",
       "17427              0.0                   NaN                NaN   \n",
       "17428              0.0                   NaN                NaN   \n",
       "17429              0.0                   NaN                NaN   \n",
       "17430              0.0                   NaN                NaN   \n",
       "17431              0.0                   NaN                NaN   \n",
       "\n",
       "       wind_cons_change_twh  wind_consumption  wind_elec_per_capita  \\\n",
       "0                       NaN               NaN                   NaN   \n",
       "1                       NaN               NaN                   NaN   \n",
       "2                       NaN               NaN                   NaN   \n",
       "3                       NaN               NaN                   NaN   \n",
       "4                       NaN               NaN                   NaN   \n",
       "...                     ...               ...                   ...   \n",
       "17427                   NaN               NaN                   0.0   \n",
       "17428                   NaN               NaN                   0.0   \n",
       "17429                   NaN               NaN                   0.0   \n",
       "17430                   NaN               NaN                   0.0   \n",
       "17431                   NaN               NaN                   0.0   \n",
       "\n",
       "       wind_energy_per_capita  \n",
       "0                         NaN  \n",
       "1                         NaN  \n",
       "2                         NaN  \n",
       "3                         NaN  \n",
       "4                         NaN  \n",
       "...                       ...  \n",
       "17427                     NaN  \n",
       "17428                     NaN  \n",
       "17429                     NaN  \n",
       "17430                     NaN  \n",
       "17431                     NaN  \n",
       "\n",
       "[17432 rows x 122 columns]"
      ]
     },
     "execution_count": 85,
     "metadata": {},
     "output_type": "execute_result"
    }
   ],
   "source": [
    "# nous allons étudier la consommation mondiale du pétrole et en Afrique\n",
    "# drop unwanted columns\n",
    "# Liste des colonnes à conserver\n",
    "fuel = pd.read_csv('C:/Users/mbond/Downloads/portofoliodata/portofoliopython/energyconsomtion.csv', delimiter=';')\n",
    "\n",
    "# Liste des colonnes à supprimer\n",
    "colonnes_a_conserver = [\n",
    "    'country', 'year', 'electricity_share_energy', 'fossil_elec_per_capita',\n",
    "    'oil_consumption', 'oil_production'\n",
    "]\n",
    "\n",
    "# Supprimer toutes les colonnes qui ne sont pas dans la liste\n",
    "colonnes_a_supprimer = [col for col in data.columns if col not in colonnes_a_conserver]\n",
    "fuel = fuel.drop(columns=colonnes_a_supprimer)\n",
    "fuel"
   ]
  },
  {
   "cell_type": "code",
   "execution_count": 86,
   "id": "451091be",
   "metadata": {},
   "outputs": [
    {
     "data": {
      "text/html": [
       "<div>\n",
       "<style scoped>\n",
       "    .dataframe tbody tr th:only-of-type {\n",
       "        vertical-align: middle;\n",
       "    }\n",
       "\n",
       "    .dataframe tbody tr th {\n",
       "        vertical-align: top;\n",
       "    }\n",
       "\n",
       "    .dataframe thead th {\n",
       "        text-align: right;\n",
       "    }\n",
       "</style>\n",
       "<table border=\"1\" class=\"dataframe\">\n",
       "  <thead>\n",
       "    <tr style=\"text-align: right;\">\n",
       "      <th></th>\n",
       "      <th>country</th>\n",
       "      <th>year</th>\n",
       "      <th>oil_consumption</th>\n",
       "      <th>oil_production</th>\n",
       "    </tr>\n",
       "  </thead>\n",
       "  <tbody>\n",
       "    <tr>\n",
       "      <th>0</th>\n",
       "      <td>Afghanistan</td>\n",
       "      <td>1900</td>\n",
       "      <td>NaN</td>\n",
       "      <td>NaN</td>\n",
       "    </tr>\n",
       "    <tr>\n",
       "      <th>1</th>\n",
       "      <td>Afghanistan</td>\n",
       "      <td>1901</td>\n",
       "      <td>NaN</td>\n",
       "      <td>NaN</td>\n",
       "    </tr>\n",
       "    <tr>\n",
       "      <th>2</th>\n",
       "      <td>Afghanistan</td>\n",
       "      <td>1902</td>\n",
       "      <td>NaN</td>\n",
       "      <td>NaN</td>\n",
       "    </tr>\n",
       "    <tr>\n",
       "      <th>3</th>\n",
       "      <td>Afghanistan</td>\n",
       "      <td>1903</td>\n",
       "      <td>NaN</td>\n",
       "      <td>NaN</td>\n",
       "    </tr>\n",
       "    <tr>\n",
       "      <th>4</th>\n",
       "      <td>Afghanistan</td>\n",
       "      <td>1904</td>\n",
       "      <td>NaN</td>\n",
       "      <td>NaN</td>\n",
       "    </tr>\n",
       "    <tr>\n",
       "      <th>...</th>\n",
       "      <td>...</td>\n",
       "      <td>...</td>\n",
       "      <td>...</td>\n",
       "      <td>...</td>\n",
       "    </tr>\n",
       "    <tr>\n",
       "      <th>17427</th>\n",
       "      <td>Zimbabwe</td>\n",
       "      <td>2015</td>\n",
       "      <td>NaN</td>\n",
       "      <td>NaN</td>\n",
       "    </tr>\n",
       "    <tr>\n",
       "      <th>17428</th>\n",
       "      <td>Zimbabwe</td>\n",
       "      <td>2016</td>\n",
       "      <td>NaN</td>\n",
       "      <td>NaN</td>\n",
       "    </tr>\n",
       "    <tr>\n",
       "      <th>17429</th>\n",
       "      <td>Zimbabwe</td>\n",
       "      <td>2017</td>\n",
       "      <td>NaN</td>\n",
       "      <td>NaN</td>\n",
       "    </tr>\n",
       "    <tr>\n",
       "      <th>17430</th>\n",
       "      <td>Zimbabwe</td>\n",
       "      <td>2018</td>\n",
       "      <td>NaN</td>\n",
       "      <td>NaN</td>\n",
       "    </tr>\n",
       "    <tr>\n",
       "      <th>17431</th>\n",
       "      <td>Zimbabwe</td>\n",
       "      <td>2019</td>\n",
       "      <td>NaN</td>\n",
       "      <td>NaN</td>\n",
       "    </tr>\n",
       "  </tbody>\n",
       "</table>\n",
       "<p>17432 rows × 4 columns</p>\n",
       "</div>"
      ],
      "text/plain": [
       "           country  year  oil_consumption  oil_production\n",
       "0      Afghanistan  1900              NaN             NaN\n",
       "1      Afghanistan  1901              NaN             NaN\n",
       "2      Afghanistan  1902              NaN             NaN\n",
       "3      Afghanistan  1903              NaN             NaN\n",
       "4      Afghanistan  1904              NaN             NaN\n",
       "...            ...   ...              ...             ...\n",
       "17427     Zimbabwe  2015              NaN             NaN\n",
       "17428     Zimbabwe  2016              NaN             NaN\n",
       "17429     Zimbabwe  2017              NaN             NaN\n",
       "17430     Zimbabwe  2018              NaN             NaN\n",
       "17431     Zimbabwe  2019              NaN             NaN\n",
       "\n",
       "[17432 rows x 4 columns]"
      ]
     },
     "execution_count": 86,
     "metadata": {},
     "output_type": "execute_result"
    }
   ],
   "source": [
    "data"
   ]
  },
  {
   "cell_type": "code",
   "execution_count": 116,
   "id": "2f718d02",
   "metadata": {},
   "outputs": [
    {
     "data": {
      "text/html": [
       "<div>\n",
       "<style scoped>\n",
       "    .dataframe tbody tr th:only-of-type {\n",
       "        vertical-align: middle;\n",
       "    }\n",
       "\n",
       "    .dataframe tbody tr th {\n",
       "        vertical-align: top;\n",
       "    }\n",
       "\n",
       "    .dataframe thead th {\n",
       "        text-align: right;\n",
       "    }\n",
       "</style>\n",
       "<table border=\"1\" class=\"dataframe\">\n",
       "  <thead>\n",
       "    <tr style=\"text-align: right;\">\n",
       "      <th></th>\n",
       "      <th>country</th>\n",
       "      <th>year</th>\n",
       "      <th>oil_consumption</th>\n",
       "      <th>oil_production</th>\n",
       "    </tr>\n",
       "  </thead>\n",
       "  <tbody>\n",
       "    <tr>\n",
       "      <th>0</th>\n",
       "      <td>Afghanistan</td>\n",
       "      <td>1900</td>\n",
       "      <td>NaN</td>\n",
       "      <td>NaN</td>\n",
       "    </tr>\n",
       "    <tr>\n",
       "      <th>1</th>\n",
       "      <td>Afghanistan</td>\n",
       "      <td>1901</td>\n",
       "      <td>NaN</td>\n",
       "      <td>NaN</td>\n",
       "    </tr>\n",
       "    <tr>\n",
       "      <th>2</th>\n",
       "      <td>Afghanistan</td>\n",
       "      <td>1902</td>\n",
       "      <td>NaN</td>\n",
       "      <td>NaN</td>\n",
       "    </tr>\n",
       "    <tr>\n",
       "      <th>3</th>\n",
       "      <td>Afghanistan</td>\n",
       "      <td>1903</td>\n",
       "      <td>NaN</td>\n",
       "      <td>NaN</td>\n",
       "    </tr>\n",
       "    <tr>\n",
       "      <th>4</th>\n",
       "      <td>Afghanistan</td>\n",
       "      <td>1904</td>\n",
       "      <td>NaN</td>\n",
       "      <td>NaN</td>\n",
       "    </tr>\n",
       "    <tr>\n",
       "      <th>...</th>\n",
       "      <td>...</td>\n",
       "      <td>...</td>\n",
       "      <td>...</td>\n",
       "      <td>...</td>\n",
       "    </tr>\n",
       "    <tr>\n",
       "      <th>17427</th>\n",
       "      <td>Zimbabwe</td>\n",
       "      <td>2015</td>\n",
       "      <td>NaN</td>\n",
       "      <td>NaN</td>\n",
       "    </tr>\n",
       "    <tr>\n",
       "      <th>17428</th>\n",
       "      <td>Zimbabwe</td>\n",
       "      <td>2016</td>\n",
       "      <td>NaN</td>\n",
       "      <td>NaN</td>\n",
       "    </tr>\n",
       "    <tr>\n",
       "      <th>17429</th>\n",
       "      <td>Zimbabwe</td>\n",
       "      <td>2017</td>\n",
       "      <td>NaN</td>\n",
       "      <td>NaN</td>\n",
       "    </tr>\n",
       "    <tr>\n",
       "      <th>17430</th>\n",
       "      <td>Zimbabwe</td>\n",
       "      <td>2018</td>\n",
       "      <td>NaN</td>\n",
       "      <td>NaN</td>\n",
       "    </tr>\n",
       "    <tr>\n",
       "      <th>17431</th>\n",
       "      <td>Zimbabwe</td>\n",
       "      <td>2019</td>\n",
       "      <td>NaN</td>\n",
       "      <td>NaN</td>\n",
       "    </tr>\n",
       "  </tbody>\n",
       "</table>\n",
       "<p>17432 rows × 4 columns</p>\n",
       "</div>"
      ],
      "text/plain": [
       "           country  year  oil_consumption  oil_production\n",
       "0      Afghanistan  1900              NaN             NaN\n",
       "1      Afghanistan  1901              NaN             NaN\n",
       "2      Afghanistan  1902              NaN             NaN\n",
       "3      Afghanistan  1903              NaN             NaN\n",
       "4      Afghanistan  1904              NaN             NaN\n",
       "...            ...   ...              ...             ...\n",
       "17427     Zimbabwe  2015              NaN             NaN\n",
       "17428     Zimbabwe  2016              NaN             NaN\n",
       "17429     Zimbabwe  2017              NaN             NaN\n",
       "17430     Zimbabwe  2018              NaN             NaN\n",
       "17431     Zimbabwe  2019              NaN             NaN\n",
       "\n",
       "[17432 rows x 4 columns]"
      ]
     },
     "execution_count": 116,
     "metadata": {},
     "output_type": "execute_result"
    }
   ],
   "source": [
    "\n",
    "%matplotlib inline\n",
    "import math\n",
    "import numpy as np\n",
    "import pandas as pd\n",
    "import seaborn as sns\n",
    "import matplotlib.pyplot as plt\n",
    "from scipy import stats\n",
    "from statsmodels.stats.weightstats import ztest as ztest\n",
    "# Lire le fichier CSV\n",
    "fuel = pd.read_csv('C:/Users/mbond/Downloads/portofoliodata/portofoliopython/energyconsomtion.csv', delimiter=';')\n",
    "\n",
    "# Sélectionner uniquement les colonnes nécessaires\n",
    "fuel = fuel[['country', 'year', 'oil_consumption', 'oil_production']]\n",
    "\n",
    "# Afficher les premières lignes du DataFrame résultant\n",
    "fuel\n"
   ]
  },
  {
   "cell_type": "code",
   "execution_count": 118,
   "id": "8db81e43",
   "metadata": {},
   "outputs": [
    {
     "name": "stdout",
     "output_type": "stream",
     "text": [
      "    country  year  oil_consumption  oil_production\n",
      "185  Africa  1965          325.901        1233.096\n",
      "186  Africa  1966          356.710        1569.275\n",
      "187  Africa  1967          353.833        1726.330\n",
      "188  Africa  1968          373.394        2212.528\n",
      "189  Africa  1969          378.536        2813.719\n"
     ]
    }
   ],
   "source": [
    "# Drop rows with any null value in any of the specified columns\n",
    "fuel.dropna(subset=['country', 'year', 'oil_consumption', 'oil_production'], inplace=True)\n",
    "\n",
    "# Display the resulting DataFrame\n",
    "print(fuel.head())"
   ]
  },
  {
   "cell_type": "code",
   "execution_count": 123,
   "id": "709e151b",
   "metadata": {},
   "outputs": [
    {
     "data": {
      "text/html": [
       "<div>\n",
       "<style scoped>\n",
       "    .dataframe tbody tr th:only-of-type {\n",
       "        vertical-align: middle;\n",
       "    }\n",
       "\n",
       "    .dataframe tbody tr th {\n",
       "        vertical-align: top;\n",
       "    }\n",
       "\n",
       "    .dataframe thead th {\n",
       "        text-align: right;\n",
       "    }\n",
       "</style>\n",
       "<table border=\"1\" class=\"dataframe\">\n",
       "  <thead>\n",
       "    <tr style=\"text-align: right;\">\n",
       "      <th></th>\n",
       "      <th>country</th>\n",
       "      <th>year</th>\n",
       "      <th>oil_consumption</th>\n",
       "      <th>oil_production</th>\n",
       "    </tr>\n",
       "  </thead>\n",
       "  <tbody>\n",
       "    <tr>\n",
       "      <th>185</th>\n",
       "      <td>Africa</td>\n",
       "      <td>1965</td>\n",
       "      <td>325.901</td>\n",
       "      <td>1233.096</td>\n",
       "    </tr>\n",
       "    <tr>\n",
       "      <th>186</th>\n",
       "      <td>Africa</td>\n",
       "      <td>1966</td>\n",
       "      <td>356.710</td>\n",
       "      <td>1569.275</td>\n",
       "    </tr>\n",
       "    <tr>\n",
       "      <th>187</th>\n",
       "      <td>Africa</td>\n",
       "      <td>1967</td>\n",
       "      <td>353.833</td>\n",
       "      <td>1726.330</td>\n",
       "    </tr>\n",
       "    <tr>\n",
       "      <th>188</th>\n",
       "      <td>Africa</td>\n",
       "      <td>1968</td>\n",
       "      <td>373.394</td>\n",
       "      <td>2212.528</td>\n",
       "    </tr>\n",
       "    <tr>\n",
       "      <th>189</th>\n",
       "      <td>Africa</td>\n",
       "      <td>1969</td>\n",
       "      <td>378.536</td>\n",
       "      <td>2813.719</td>\n",
       "    </tr>\n",
       "    <tr>\n",
       "      <th>...</th>\n",
       "      <td>...</td>\n",
       "      <td>...</td>\n",
       "      <td>...</td>\n",
       "      <td>...</td>\n",
       "    </tr>\n",
       "    <tr>\n",
       "      <th>16803</th>\n",
       "      <td>Vietnam</td>\n",
       "      <td>2015</td>\n",
       "      <td>251.063</td>\n",
       "      <td>199.351</td>\n",
       "    </tr>\n",
       "    <tr>\n",
       "      <th>16804</th>\n",
       "      <td>Vietnam</td>\n",
       "      <td>2016</td>\n",
       "      <td>264.637</td>\n",
       "      <td>180.100</td>\n",
       "    </tr>\n",
       "    <tr>\n",
       "      <th>16805</th>\n",
       "      <td>Vietnam</td>\n",
       "      <td>2017</td>\n",
       "      <td>273.223</td>\n",
       "      <td>160.814</td>\n",
       "    </tr>\n",
       "    <tr>\n",
       "      <th>16806</th>\n",
       "      <td>Vietnam</td>\n",
       "      <td>2018</td>\n",
       "      <td>284.293</td>\n",
       "      <td>144.094</td>\n",
       "    </tr>\n",
       "    <tr>\n",
       "      <th>16807</th>\n",
       "      <td>Vietnam</td>\n",
       "      <td>2019</td>\n",
       "      <td>296.583</td>\n",
       "      <td>132.857</td>\n",
       "    </tr>\n",
       "  </tbody>\n",
       "</table>\n",
       "<p>2432 rows × 4 columns</p>\n",
       "</div>"
      ],
      "text/plain": [
       "       country  year  oil_consumption  oil_production\n",
       "185     Africa  1965          325.901        1233.096\n",
       "186     Africa  1966          356.710        1569.275\n",
       "187     Africa  1967          353.833        1726.330\n",
       "188     Africa  1968          373.394        2212.528\n",
       "189     Africa  1969          378.536        2813.719\n",
       "...        ...   ...              ...             ...\n",
       "16803  Vietnam  2015          251.063         199.351\n",
       "16804  Vietnam  2016          264.637         180.100\n",
       "16805  Vietnam  2017          273.223         160.814\n",
       "16806  Vietnam  2018          284.293         144.094\n",
       "16807  Vietnam  2019          296.583         132.857\n",
       "\n",
       "[2432 rows x 4 columns]"
      ]
     },
     "execution_count": 123,
     "metadata": {},
     "output_type": "execute_result"
    }
   ],
   "source": [
    "# Supprimer les lignes où 'oil_consumption' est égal à 0\n",
    "fuel = fuel[fuel['oil_consumption'] != 0]\n",
    "\n",
    "# Afficher le DataFrame résultant\n",
    "# Supprimer les lignes où la colonne 'country' contient 'World'\n",
    "fuel = fuel[fuel['country'] != 'World']\n",
    "fuel"
   ]
  },
  {
   "cell_type": "code",
   "execution_count": 124,
   "id": "25365d0d",
   "metadata": {},
   "outputs": [
    {
     "data": {
      "image/png": "[encoded data removed]",
      "text/plain": [
       "<Figure size 1200x600 with 2 Axes>"
      ]
     },
     "metadata": {},
     "output_type": "display_data"
    }
   ],
   "source": [
    "# Filtrer les données pour obtenir deux DataFrames distincts : avant et après 2000\n",
    "fuel_before_2000 = fuel[fuel['year'] < 2000]\n",
    "fuel_after_2000 = fuel[fuel['year'] >= 2000]\n",
    "\n",
    "# Calculer la somme de la consommation de pétrole par année pour chaque DataFrame\n",
    "consumption_before_2000 = fuel_before_2000.groupby('year')['oil_consumption'].sum()\n",
    "consumption_after_2000 = fuel_after_2000.groupby('year')['oil_consumption'].sum()\n",
    "\n",
    "# Créer un graphique avec deux sous-graphiques sur un même plan\n",
    "plt.figure(figsize=(12, 6))\n",
    "\n",
    "# Premier sous-graphique : avant 2000\n",
    "plt.subplot(1, 2, 1)\n",
    "plt.plot(consumption_before_2000.index, consumption_before_2000.values, label='Consommation avant 2000')\n",
    "plt.title('Consommation de pétrole avant 2000')\n",
    "plt.xlabel('Année')\n",
    "plt.ylabel('Consommation de pétrole')\n",
    "plt.legend()\n",
    "\n",
    "# Deuxième sous-graphique : après 2000\n",
    "plt.subplot(1, 2, 2)\n",
    "plt.plot(consumption_after_2000.index, consumption_after_2000.values, label='Consommation après 2000', color='orange')\n",
    "plt.title('Consommation de pétrole après 2000')\n",
    "plt.xlabel('Année')\n",
    "plt.ylabel('Consommation de pétrole')\n",
    "plt.legend()\n",
    "\n",
    "# Ajuster l'espacement entre les sous-graphiques\n",
    "plt.tight_layout()\n",
    "\n",
    "# Afficher le graphique\n",
    "plt.show()\n"
   ]
  },
  {
   "cell_type": "code",
   "execution_count": 120,
   "id": "72595951",
   "metadata": {},
   "outputs": [
    {
     "data": {
      "image/png": "[encoded data removed]",
      "text/plain": [
       "<Figure size 1200x600 with 2 Axes>"
      ]
     },
     "metadata": {},
     "output_type": "display_data"
    }
   ],
   "source": [
    "# Filtrer les données pour obtenir celles avant et après l'année 2000\n",
    "avant_2000 = fuel[fuel['year'] < 2000]\n",
    "apres_2000 = fuel[fuel['year'] >= 2000]\n",
    "\n",
    "# Créer un histogramme pour la consommation de pétrole avant 2000\n",
    "plt.figure(figsize=(12, 6))\n",
    "plt.subplot(1, 2, 1)  # Crée la première sous-trace\n",
    "plt.hist(avant_2000['oil_consumption'], bins=20, color='blue', alpha=0.7)\n",
    "plt.title('Consommation de pétrole avant 2000')\n",
    "plt.xlabel('Consommation de pétrole')\n",
    "plt.ylabel('Nombre')\n",
    "\n",
    "# Créer un histogramme pour la consommation de pétrole après 2000\n",
    "plt.subplot(1, 2, 2)  # Crée la deuxième sous-trace\n",
    "plt.hist(apres_2000['oil_consumption'], bins=20, color='green', alpha=0.7)\n",
    "plt.title('Consommation de pétrole après 2000')\n",
    "plt.xlabel('Consommation de pétrole')\n",
    "plt.ylabel('nombre')\n",
    "\n",
    "# Afficher les deux histogrammes sur le même graphique\n",
    "plt.tight_layout()  # Pour éviter que les graphiques se chevauchent\n",
    "plt.show()"
   ]
  },
  {
   "cell_type": "code",
   "execution_count": 138,
   "id": "1a59e00e",
   "metadata": {},
   "outputs": [
    {
     "data": {
      "image/png": "[encoded data removed]",
      "text/plain": [
       "<Figure size 1200x600 with 2 Axes>"
      ]
     },
     "metadata": {},
     "output_type": "display_data"
    }
   ],
   "source": [
    "import pandas as pd\n",
    "import matplotlib.pyplot as plt\n",
    "\n",
    "# Sélectionner les lignes où la colonne 'country' contient 'Afrique'\n",
    "fuel_afrique = fuel.loc[fuel['country'] == 'United States']\n",
    "\n",
    "# Filtrer les données pour obtenir deux DataFrames distincts : avant et après 2000\n",
    "fuel_before_2000 = fuel_afrique[fuel_afrique['year'] < 2000]\n",
    "fuel_after_2000 = fuel_afrique[fuel_afrique['year'] >= 2000]\n",
    "\n",
    "# Calculer la somme de la consommation de pétrole par année pour chaque DataFrame\n",
    "consumption_before_2000 = fuel_before_2000.groupby('year')['oil_consumption'].sum()\n",
    "consumption_after_2000 = fuel_after_2000.groupby('year')['oil_consumption'].sum()\n",
    "\n",
    "# Créer un graphique avec deux sous-graphiques sur un même plan\n",
    "plt.figure(figsize=(12, 6))\n",
    "\n",
    "# Premier sous-graphique : avant 2000\n",
    "plt.subplot(1, 2, 1)\n",
    "plt.plot(consumption_before_2000.index, consumption_before_2000.values, label='Consommation avant 2000')\n",
    "plt.title('Consommation de pétroleau United Statesavant 2000')\n",
    "plt.xlabel('Année')\n",
    "plt.ylabel('Consommation de pétrole')\n",
    "plt.xticks(consumption_before_2000.index[::5], rotation=45)  # Échelle des années avec une rotation de 45 degrés\n",
    "plt.legend()\n",
    "\n",
    "# Deuxième sous-graphique : après 2000\n",
    "plt.subplot(1, 2, 2)\n",
    "plt.plot(consumption_after_2000.index, consumption_after_2000.values, label='Consommation après 2000', color='orange')\n",
    "plt.title('Consommation de pétrole  au United States après 2000')\n",
    "plt.xlabel('Année')\n",
    "plt.ylabel('Consommation de pétrole')\n",
    "plt.xticks(consumption_after_2000.index[::5], rotation=45)  # Échelle des années avec une rotation de 45 degrés\n",
    "plt.legend()\n",
    "\n",
    "# Ajuster l'espacement entre les sous-graphiques\n",
    "plt.tight_layout()\n",
    "\n",
    "# Afficher le graphique\n",
    "plt.show()\n"
   ]
  },
  {
   "cell_type": "code",
   "execution_count": 127,
   "id": "82a3bc2c",
   "metadata": {},
   "outputs": [
    {
     "data": {
      "text/html": [
       "<div>\n",
       "<style scoped>\n",
       "    .dataframe tbody tr th:only-of-type {\n",
       "        vertical-align: middle;\n",
       "    }\n",
       "\n",
       "    .dataframe tbody tr th {\n",
       "        vertical-align: top;\n",
       "    }\n",
       "\n",
       "    .dataframe thead th {\n",
       "        text-align: right;\n",
       "    }\n",
       "</style>\n",
       "<table border=\"1\" class=\"dataframe\">\n",
       "  <thead>\n",
       "    <tr style=\"text-align: right;\">\n",
       "      <th></th>\n",
       "      <th>country</th>\n",
       "      <th>year</th>\n",
       "      <th>oil_consumption</th>\n",
       "      <th>oil_production</th>\n",
       "    </tr>\n",
       "  </thead>\n",
       "  <tbody>\n",
       "    <tr>\n",
       "      <th>185</th>\n",
       "      <td>Africa</td>\n",
       "      <td>1965</td>\n",
       "      <td>325.901</td>\n",
       "      <td>1233.096</td>\n",
       "    </tr>\n",
       "    <tr>\n",
       "      <th>186</th>\n",
       "      <td>Africa</td>\n",
       "      <td>1966</td>\n",
       "      <td>356.710</td>\n",
       "      <td>1569.275</td>\n",
       "    </tr>\n",
       "    <tr>\n",
       "      <th>187</th>\n",
       "      <td>Africa</td>\n",
       "      <td>1967</td>\n",
       "      <td>353.833</td>\n",
       "      <td>1726.330</td>\n",
       "    </tr>\n",
       "    <tr>\n",
       "      <th>188</th>\n",
       "      <td>Africa</td>\n",
       "      <td>1968</td>\n",
       "      <td>373.394</td>\n",
       "      <td>2212.528</td>\n",
       "    </tr>\n",
       "    <tr>\n",
       "      <th>189</th>\n",
       "      <td>Africa</td>\n",
       "      <td>1969</td>\n",
       "      <td>378.536</td>\n",
       "      <td>2813.719</td>\n",
       "    </tr>\n",
       "    <tr>\n",
       "      <th>...</th>\n",
       "      <td>...</td>\n",
       "      <td>...</td>\n",
       "      <td>...</td>\n",
       "      <td>...</td>\n",
       "    </tr>\n",
       "    <tr>\n",
       "      <th>16803</th>\n",
       "      <td>Vietnam</td>\n",
       "      <td>2015</td>\n",
       "      <td>251.063</td>\n",
       "      <td>199.351</td>\n",
       "    </tr>\n",
       "    <tr>\n",
       "      <th>16804</th>\n",
       "      <td>Vietnam</td>\n",
       "      <td>2016</td>\n",
       "      <td>264.637</td>\n",
       "      <td>180.100</td>\n",
       "    </tr>\n",
       "    <tr>\n",
       "      <th>16805</th>\n",
       "      <td>Vietnam</td>\n",
       "      <td>2017</td>\n",
       "      <td>273.223</td>\n",
       "      <td>160.814</td>\n",
       "    </tr>\n",
       "    <tr>\n",
       "      <th>16806</th>\n",
       "      <td>Vietnam</td>\n",
       "      <td>2018</td>\n",
       "      <td>284.293</td>\n",
       "      <td>144.094</td>\n",
       "    </tr>\n",
       "    <tr>\n",
       "      <th>16807</th>\n",
       "      <td>Vietnam</td>\n",
       "      <td>2019</td>\n",
       "      <td>296.583</td>\n",
       "      <td>132.857</td>\n",
       "    </tr>\n",
       "  </tbody>\n",
       "</table>\n",
       "<p>2432 rows × 4 columns</p>\n",
       "</div>"
      ],
      "text/plain": [
       "       country  year  oil_consumption  oil_production\n",
       "185     Africa  1965          325.901        1233.096\n",
       "186     Africa  1966          356.710        1569.275\n",
       "187     Africa  1967          353.833        1726.330\n",
       "188     Africa  1968          373.394        2212.528\n",
       "189     Africa  1969          378.536        2813.719\n",
       "...        ...   ...              ...             ...\n",
       "16803  Vietnam  2015          251.063         199.351\n",
       "16804  Vietnam  2016          264.637         180.100\n",
       "16805  Vietnam  2017          273.223         160.814\n",
       "16806  Vietnam  2018          284.293         144.094\n",
       "16807  Vietnam  2019          296.583         132.857\n",
       "\n",
       "[2432 rows x 4 columns]"
      ]
     },
     "execution_count": 127,
     "metadata": {},
     "output_type": "execute_result"
    }
   ],
   "source": [
    "fuel"
   ]
  },
  {
   "cell_type": "code",
   "execution_count": 129,
   "id": "91f051e6",
   "metadata": {},
   "outputs": [
    {
     "data": {
      "text/html": [
       "<div>\n",
       "<style scoped>\n",
       "    .dataframe tbody tr th:only-of-type {\n",
       "        vertical-align: middle;\n",
       "    }\n",
       "\n",
       "    .dataframe tbody tr th {\n",
       "        vertical-align: top;\n",
       "    }\n",
       "\n",
       "    .dataframe thead th {\n",
       "        text-align: right;\n",
       "    }\n",
       "</style>\n",
       "<table border=\"1\" class=\"dataframe\">\n",
       "  <thead>\n",
       "    <tr style=\"text-align: right;\">\n",
       "      <th></th>\n",
       "      <th>country</th>\n",
       "      <th>year</th>\n",
       "      <th>oil_consumption</th>\n",
       "      <th>oil_production</th>\n",
       "    </tr>\n",
       "  </thead>\n",
       "  <tbody>\n",
       "    <tr>\n",
       "      <th>185</th>\n",
       "      <td>Africa</td>\n",
       "      <td>1965</td>\n",
       "      <td>325.901</td>\n",
       "      <td>1233.096</td>\n",
       "    </tr>\n",
       "    <tr>\n",
       "      <th>186</th>\n",
       "      <td>Africa</td>\n",
       "      <td>1966</td>\n",
       "      <td>356.710</td>\n",
       "      <td>1569.275</td>\n",
       "    </tr>\n",
       "    <tr>\n",
       "      <th>187</th>\n",
       "      <td>Africa</td>\n",
       "      <td>1967</td>\n",
       "      <td>353.833</td>\n",
       "      <td>1726.330</td>\n",
       "    </tr>\n",
       "    <tr>\n",
       "      <th>188</th>\n",
       "      <td>Africa</td>\n",
       "      <td>1968</td>\n",
       "      <td>373.394</td>\n",
       "      <td>2212.528</td>\n",
       "    </tr>\n",
       "    <tr>\n",
       "      <th>189</th>\n",
       "      <td>Africa</td>\n",
       "      <td>1969</td>\n",
       "      <td>378.536</td>\n",
       "      <td>2813.719</td>\n",
       "    </tr>\n",
       "    <tr>\n",
       "      <th>...</th>\n",
       "      <td>...</td>\n",
       "      <td>...</td>\n",
       "      <td>...</td>\n",
       "      <td>...</td>\n",
       "    </tr>\n",
       "    <tr>\n",
       "      <th>16803</th>\n",
       "      <td>Vietnam</td>\n",
       "      <td>2015</td>\n",
       "      <td>251.063</td>\n",
       "      <td>199.351</td>\n",
       "    </tr>\n",
       "    <tr>\n",
       "      <th>16804</th>\n",
       "      <td>Vietnam</td>\n",
       "      <td>2016</td>\n",
       "      <td>264.637</td>\n",
       "      <td>180.100</td>\n",
       "    </tr>\n",
       "    <tr>\n",
       "      <th>16805</th>\n",
       "      <td>Vietnam</td>\n",
       "      <td>2017</td>\n",
       "      <td>273.223</td>\n",
       "      <td>160.814</td>\n",
       "    </tr>\n",
       "    <tr>\n",
       "      <th>16806</th>\n",
       "      <td>Vietnam</td>\n",
       "      <td>2018</td>\n",
       "      <td>284.293</td>\n",
       "      <td>144.094</td>\n",
       "    </tr>\n",
       "    <tr>\n",
       "      <th>16807</th>\n",
       "      <td>Vietnam</td>\n",
       "      <td>2019</td>\n",
       "      <td>296.583</td>\n",
       "      <td>132.857</td>\n",
       "    </tr>\n",
       "  </tbody>\n",
       "</table>\n",
       "<p>2432 rows × 4 columns</p>\n",
       "</div>"
      ],
      "text/plain": [
       "       country  year  oil_consumption  oil_production\n",
       "185     Africa  1965          325.901        1233.096\n",
       "186     Africa  1966          356.710        1569.275\n",
       "187     Africa  1967          353.833        1726.330\n",
       "188     Africa  1968          373.394        2212.528\n",
       "189     Africa  1969          378.536        2813.719\n",
       "...        ...   ...              ...             ...\n",
       "16803  Vietnam  2015          251.063         199.351\n",
       "16804  Vietnam  2016          264.637         180.100\n",
       "16805  Vietnam  2017          273.223         160.814\n",
       "16806  Vietnam  2018          284.293         144.094\n",
       "16807  Vietnam  2019          296.583         132.857\n",
       "\n",
       "[2432 rows x 4 columns]"
      ]
     },
     "execution_count": 129,
     "metadata": {},
     "output_type": "execute_result"
    }
   ],
   "source": [
    "fuel"
   ]
  },
  {
   "cell_type": "code",
   "execution_count": 136,
   "id": "ac227172",
   "metadata": {},
   "outputs": [
    {
     "data": {
      "application/vnd.plotly.v1+json": {
       "config": {
        "plotlyServerURL": "https://plot.ly"
       },
       "data": [
        {
         "mode": "lines",
         "name": "Consommation avant 2000",
         "type": "scatter",
         "x": [],
         "y": []
        },
        {
         "line": {
          "color": "orange"
         },
         "mode": "lines",
         "name": "Consommation après 2000",
         "type": "scatter",
         "x": [],
         "y": []
        }
       ],
       "layout": {
        "template": {
         "data": {
          "bar": [
           {
            "error_x": {
             "color": "#2a3f5f"
            },
            "error_y": {
             "color": "#2a3f5f"
            },
            "marker": {
             "line": {
              "color": "#E5ECF6",
              "width": 0.5
             },
             "pattern": {
              "fillmode": "overlay",
              "size": 10,
              "solidity": 0.2
             }
            },
            "type": "bar"
           }
          ],
          "barpolar": [
           {
            "marker": {
             "line": {
              "color": "#E5ECF6",
              "width": 0.5
             },
             "pattern": {
              "fillmode": "overlay",
              "size": 10,
              "solidity": 0.2
             }
            },
            "type": "barpolar"
           }
          ],
          "carpet": [
           {
            "aaxis": {
             "endlinecolor": "#2a3f5f",
             "gridcolor": "white",
             "linecolor": "white",
             "minorgridcolor": "white",
             "startlinecolor": "#2a3f5f"
            },
            "baxis": {
             "endlinecolor": "#2a3f5f",
             "gridcolor": "white",
             "linecolor": "white",
             "minorgridcolor": "white",
             "startlinecolor": "#2a3f5f"
            },
            "type": "carpet"
           }
          ],
          "choropleth": [
           {
            "colorbar": {
             "outlinewidth": 0,
             "ticks": ""
            },
            "type": "choropleth"
           }
          ],
          "contour": [
           {
            "colorbar": {
             "outlinewidth": 0,
             "ticks": ""
            },
            "colorscale": [
             [
              0,
              "#0d0887"
             ],
             [
              0.1111111111111111,
              "#46039f"
             ],
             [
              0.2222222222222222,
              "#7201a8"
             ],
             [
              0.3333333333333333,
              "#9c179e"
             ],
             [
              0.4444444444444444,
              "#bd3786"
             ],
             [
              0.5555555555555556,
              "#d8576b"
             ],
             [
              0.6666666666666666,
              "#ed7953"
             ],
             [
              0.7777777777777778,
              "#fb9f3a"
             ],
             [
              0.8888888888888888,
              "#fdca26"
             ],
             [
              1,
              "#f0f921"
             ]
            ],
            "type": "contour"
           }
          ],
          "contourcarpet": [
           {
            "colorbar": {
             "outlinewidth": 0,
             "ticks": ""
            },
            "type": "contourcarpet"
           }
          ],
          "heatmap": [
           {
            "colorbar": {
             "outlinewidth": 0,
             "ticks": ""
            },
            "colorscale": [
             [
              0,
              "#0d0887"
             ],
             [
              0.1111111111111111,
              "#46039f"
             ],
             [
              0.2222222222222222,
              "#7201a8"
             ],
             [
              0.3333333333333333,
              "#9c179e"
             ],
             [
              0.4444444444444444,
              "#bd3786"
             ],
             [
              0.5555555555555556,
              "#d8576b"
             ],
             [
              0.6666666666666666,
              "#ed7953"
             ],
             [
              0.7777777777777778,
              "#fb9f3a"
             ],
             [
              0.8888888888888888,
              "#fdca26"
             ],
             [
              1,
              "#f0f921"
             ]
            ],
            "type": "heatmap"
           }
          ],
          "heatmapgl": [
           {
            "colorbar": {
             "outlinewidth": 0,
             "ticks": ""
            },
            "colorscale": [
             [
              0,
              "#0d0887"
             ],
             [
              0.1111111111111111,
              "#46039f"
             ],
             [
              0.2222222222222222,
              "#7201a8"
             ],
             [
              0.3333333333333333,
              "#9c179e"
             ],
             [
              0.4444444444444444,
              "#bd3786"
             ],
             [
              0.5555555555555556,
              "#d8576b"
             ],
             [
              0.6666666666666666,
              "#ed7953"
             ],
             [
              0.7777777777777778,
              "#fb9f3a"
             ],
             [
              0.8888888888888888,
              "#fdca26"
             ],
             [
              1,
              "#f0f921"
             ]
            ],
            "type": "heatmapgl"
           }
          ],
          "histogram": [
           {
            "marker": {
             "pattern": {
              "fillmode": "overlay",
              "size": 10,
              "solidity": 0.2
             }
            },
            "type": "histogram"
           }
          ],
          "histogram2d": [
           {
            "colorbar": {
             "outlinewidth": 0,
             "ticks": ""
            },
            "colorscale": [
             [
              0,
              "#0d0887"
             ],
             [
              0.1111111111111111,
              "#46039f"
             ],
             [
              0.2222222222222222,
              "#7201a8"
             ],
             [
              0.3333333333333333,
              "#9c179e"
             ],
             [
              0.4444444444444444,
              "#bd3786"
             ],
             [
              0.5555555555555556,
              "#d8576b"
             ],
             [
              0.6666666666666666,
              "#ed7953"
             ],
             [
              0.7777777777777778,
              "#fb9f3a"
             ],
             [
              0.8888888888888888,
              "#fdca26"
             ],
             [
              1,
              "#f0f921"
             ]
            ],
            "type": "histogram2d"
           }
          ],
          "histogram2dcontour": [
           {
            "colorbar": {
             "outlinewidth": 0,
             "ticks": ""
            },
            "colorscale": [
             [
              0,
              "#0d0887"
             ],
             [
              0.1111111111111111,
              "#46039f"
             ],
             [
              0.2222222222222222,
              "#7201a8"
             ],
             [
              0.3333333333333333,
              "#9c179e"
             ],
             [
              0.4444444444444444,
              "#bd3786"
             ],
             [
              0.5555555555555556,
              "#d8576b"
             ],
             [
              0.6666666666666666,
              "#ed7953"
             ],
             [
              0.7777777777777778,
              "#fb9f3a"
             ],
             [
              0.8888888888888888,
              "#fdca26"
             ],
             [
              1,
              "#f0f921"
             ]
            ],
            "type": "histogram2dcontour"
           }
          ],
          "mesh3d": [
           {
            "colorbar": {
             "outlinewidth": 0,
             "ticks": ""
            },
            "type": "mesh3d"
           }
          ],
          "parcoords": [
           {
            "line": {
             "colorbar": {
              "outlinewidth": 0,
              "ticks": ""
             }
            },
            "type": "parcoords"
           }
          ],
          "pie": [
           {
            "automargin": true,
            "type": "pie"
           }
          ],
          "scatter": [
           {
            "fillpattern": {
             "fillmode": "overlay",
             "size": 10,
             "solidity": 0.2
            },
            "type": "scatter"
           }
          ],
          "scatter3d": [
           {
            "line": {
             "colorbar": {
              "outlinewidth": 0,
              "ticks": ""
             }
            },
            "marker": {
             "colorbar": {
              "outlinewidth": 0,
              "ticks": ""
             }
            },
            "type": "scatter3d"
           }
          ],
          "scattercarpet": [
           {
            "marker": {
             "colorbar": {
              "outlinewidth": 0,
              "ticks": ""
             }
            },
            "type": "scattercarpet"
           }
          ],
          "scattergeo": [
           {
            "marker": {
             "colorbar": {
              "outlinewidth": 0,
              "ticks": ""
             }
            },
            "type": "scattergeo"
           }
          ],
          "scattergl": [
           {
            "marker": {
             "colorbar": {
              "outlinewidth": 0,
              "ticks": ""
             }
            },
            "type": "scattergl"
           }
          ],
          "scattermapbox": [
           {
            "marker": {
             "colorbar": {
              "outlinewidth": 0,
              "ticks": ""
             }
            },
            "type": "scattermapbox"
           }
          ],
          "scatterpolar": [
           {
            "marker": {
             "colorbar": {
              "outlinewidth": 0,
              "ticks": ""
             }
            },
            "type": "scatterpolar"
           }
          ],
          "scatterpolargl": [
           {
            "marker": {
             "colorbar": {
              "outlinewidth": 0,
              "ticks": ""
             }
            },
            "type": "scatterpolargl"
           }
          ],
          "scatterternary": [
           {
            "marker": {
             "colorbar": {
              "outlinewidth": 0,
              "ticks": ""
             }
            },
            "type": "scatterternary"
           }
          ],
          "surface": [
           {
            "colorbar": {
             "outlinewidth": 0,
             "ticks": ""
            },
            "colorscale": [
             [
              0,
              "#0d0887"
             ],
             [
              0.1111111111111111,
              "#46039f"
             ],
             [
              0.2222222222222222,
              "#7201a8"
             ],
             [
              0.3333333333333333,
              "#9c179e"
             ],
             [
              0.4444444444444444,
              "#bd3786"
             ],
             [
              0.5555555555555556,
              "#d8576b"
             ],
             [
              0.6666666666666666,
              "#ed7953"
             ],
             [
              0.7777777777777778,
              "#fb9f3a"
             ],
             [
              0.8888888888888888,
              "#fdca26"
             ],
             [
              1,
              "#f0f921"
             ]
            ],
            "type": "surface"
           }
          ],
          "table": [
           {
            "cells": {
             "fill": {
              "color": "#EBF0F8"
             },
             "line": {
              "color": "white"
             }
            },
            "header": {
             "fill": {
              "color": "#C8D4E3"
             },
             "line": {
              "color": "white"
             }
            },
            "type": "table"
           }
          ]
         },
         "layout": {
          "annotationdefaults": {
           "arrowcolor": "#2a3f5f",
           "arrowhead": 0,
           "arrowwidth": 1
          },
          "autotypenumbers": "strict",
          "coloraxis": {
           "colorbar": {
            "outlinewidth": 0,
            "ticks": ""
           }
          },
          "colorscale": {
           "diverging": [
            [
             0,
             "#8e0152"
            ],
            [
             0.1,
             "#c51b7d"
            ],
            [
             0.2,
             "#de77ae"
            ],
            [
             0.3,
             "#f1b6da"
            ],
            [
             0.4,
             "#fde0ef"
            ],
            [
             0.5,
             "#f7f7f7"
            ],
            [
             0.6,
             "#e6f5d0"
            ],
            [
             0.7,
             "#b8e186"
            ],
            [
             0.8,
             "#7fbc41"
            ],
            [
             0.9,
             "#4d9221"
            ],
            [
             1,
             "#276419"
            ]
           ],
           "sequential": [
            [
             0,
             "#0d0887"
            ],
            [
             0.1111111111111111,
             "#46039f"
            ],
            [
             0.2222222222222222,
             "#7201a8"
            ],
            [
             0.3333333333333333,
             "#9c179e"
            ],
            [
             0.4444444444444444,
             "#bd3786"
            ],
            [
             0.5555555555555556,
             "#d8576b"
            ],
            [
             0.6666666666666666,
             "#ed7953"
            ],
            [
             0.7777777777777778,
             "#fb9f3a"
            ],
            [
             0.8888888888888888,
             "#fdca26"
            ],
            [
             1,
             "#f0f921"
            ]
           ],
           "sequentialminus": [
            [
             0,
             "#0d0887"
            ],
            [
             0.1111111111111111,
             "#46039f"
            ],
            [
             0.2222222222222222,
             "#7201a8"
            ],
            [
             0.3333333333333333,
             "#9c179e"
            ],
            [
             0.4444444444444444,
             "#bd3786"
            ],
            [
             0.5555555555555556,
             "#d8576b"
            ],
            [
             0.6666666666666666,
             "#ed7953"
            ],
            [
             0.7777777777777778,
             "#fb9f3a"
            ],
            [
             0.8888888888888888,
             "#fdca26"
            ],
            [
             1,
             "#f0f921"
            ]
           ]
          },
          "colorway": [
           "#636efa",
           "#EF553B",
           "#00cc96",
           "#ab63fa",
           "#FFA15A",
           "#19d3f3",
           "#FF6692",
           "#B6E880",
           "#FF97FF",
           "#FECB52"
          ],
          "font": {
           "color": "#2a3f5f"
          },
          "geo": {
           "bgcolor": "white",
           "lakecolor": "white",
           "landcolor": "#E5ECF6",
           "showlakes": true,
           "showland": true,
           "subunitcolor": "white"
          },
          "hoverlabel": {
           "align": "left"
          },
          "hovermode": "closest",
          "mapbox": {
           "style": "light"
          },
          "paper_bgcolor": "white",
          "plot_bgcolor": "#E5ECF6",
          "polar": {
           "angularaxis": {
            "gridcolor": "white",
            "linecolor": "white",
            "ticks": ""
           },
           "bgcolor": "#E5ECF6",
           "radialaxis": {
            "gridcolor": "white",
            "linecolor": "white",
            "ticks": ""
           }
          },
          "scene": {
           "xaxis": {
            "backgroundcolor": "#E5ECF6",
            "gridcolor": "white",
            "gridwidth": 2,
            "linecolor": "white",
            "showbackground": true,
            "ticks": "",
            "zerolinecolor": "white"
           },
           "yaxis": {
            "backgroundcolor": "#E5ECF6",
            "gridcolor": "white",
            "gridwidth": 2,
            "linecolor": "white",
            "showbackground": true,
            "ticks": "",
            "zerolinecolor": "white"
           },
           "zaxis": {
            "backgroundcolor": "#E5ECF6",
            "gridcolor": "white",
            "gridwidth": 2,
            "linecolor": "white",
            "showbackground": true,
            "ticks": "",
            "zerolinecolor": "white"
           }
          },
          "shapedefaults": {
           "line": {
            "color": "#2a3f5f"
           }
          },
          "ternary": {
           "aaxis": {
            "gridcolor": "white",
            "linecolor": "white",
            "ticks": ""
           },
           "baxis": {
            "gridcolor": "white",
            "linecolor": "white",
            "ticks": ""
           },
           "bgcolor": "#E5ECF6",
           "caxis": {
            "gridcolor": "white",
            "linecolor": "white",
            "ticks": ""
           }
          },
          "title": {
           "x": 0.05
          },
          "xaxis": {
           "automargin": true,
           "gridcolor": "white",
           "linecolor": "white",
           "ticks": "",
           "title": {
            "standoff": 15
           },
           "zerolinecolor": "white",
           "zerolinewidth": 2
          },
          "yaxis": {
           "automargin": true,
           "gridcolor": "white",
           "linecolor": "white",
           "ticks": "",
           "title": {
            "standoff": 15
           },
           "zerolinecolor": "white",
           "zerolinewidth": 2
          }
         }
        },
        "title": {
         "text": "Consommation de pétrole en Afrique"
        },
        "xaxis": {
         "categoryorder": "total descending",
         "dtick": 5,
         "title": {
          "text": "Année"
         },
         "type": "category"
        },
        "yaxis": {
         "title": {
          "text": "Consommation de pétrole"
         }
        }
       }
      },
      "text/html": [
       "<div>                            <div id=\"d5196a53-341c-47a7-a945-1483f724ad93\" class=\"plotly-graph-div\" style=\"height:525px; width:100%;\"></div>            <script type=\"text/javascript\">                require([\"plotly\"], function(Plotly) {                    window.PLOTLYENV=window.PLOTLYENV || {};                                    if (document.getElementById(\"d5196a53-341c-47a7-a945-1483f724ad93\")) {                    Plotly.newPlot(                        \"d5196a53-341c-47a7-a945-1483f724ad93\",                        [{\"mode\":\"lines\",\"name\":\"Consommation avant 2000\",\"x\":[],\"y\":[],\"type\":\"scatter\"},{\"line\":{\"color\":\"orange\"},\"mode\":\"lines\",\"name\":\"Consommation apr\\u00e8s 2000\",\"x\":[],\"y\":[],\"type\":\"scatter\"}],                        {\"template\":{\"data\":{\"histogram2dcontour\":[{\"type\":\"histogram2dcontour\",\"colorbar\":{\"outlinewidth\":0,\"ticks\":\"\"},\"colorscale\":[[0.0,\"#0d0887\"],[0.1111111111111111,\"#46039f\"],[0.2222222222222222,\"#7201a8\"],[0.3333333333333333,\"#9c179e\"],[0.4444444444444444,\"#bd3786\"],[0.5555555555555556,\"#d8576b\"],[0.6666666666666666,\"#ed7953\"],[0.7777777777777778,\"#fb9f3a\"],[0.8888888888888888,\"#fdca26\"],[1.0,\"#f0f921\"]]}],\"choropleth\":[{\"type\":\"choropleth\",\"colorbar\":{\"outlinewidth\":0,\"ticks\":\"\"}}],\"histogram2d\":[{\"type\":\"histogram2d\",\"colorbar\":{\"outlinewidth\":0,\"ticks\":\"\"},\"colorscale\":[[0.0,\"#0d0887\"],[0.1111111111111111,\"#46039f\"],[0.2222222222222222,\"#7201a8\"],[0.3333333333333333,\"#9c179e\"],[0.4444444444444444,\"#bd3786\"],[0.5555555555555556,\"#d8576b\"],[0.6666666666666666,\"#ed7953\"],[0.7777777777777778,\"#fb9f3a\"],[0.8888888888888888,\"#fdca26\"],[1.0,\"#f0f921\"]]}],\"heatmap\":[{\"type\":\"heatmap\",\"colorbar\":{\"outlinewidth\":0,\"ticks\":\"\"},\"colorscale\":[[0.0,\"#0d0887\"],[0.1111111111111111,\"#46039f\"],[0.2222222222222222,\"#7201a8\"],[0.3333333333333333,\"#9c179e\"],[0.4444444444444444,\"#bd3786\"],[0.5555555555555556,\"#d8576b\"],[0.6666666666666666,\"#ed7953\"],[0.7777777777777778,\"#fb9f3a\"],[0.8888888888888888,\"#fdca26\"],[1.0,\"#f0f921\"]]}],\"heatmapgl\":[{\"type\":\"heatmapgl\",\"colorbar\":{\"outlinewidth\":0,\"ticks\":\"\"},\"colorscale\":[[0.0,\"#0d0887\"],[0.1111111111111111,\"#46039f\"],[0.2222222222222222,\"#7201a8\"],[0.3333333333333333,\"#9c179e\"],[0.4444444444444444,\"#bd3786\"],[0.5555555555555556,\"#d8576b\"],[0.6666666666666666,\"#ed7953\"],[0.7777777777777778,\"#fb9f3a\"],[0.8888888888888888,\"#fdca26\"],[1.0,\"#f0f921\"]]}],\"contourcarpet\":[{\"type\":\"contourcarpet\",\"colorbar\":{\"outlinewidth\":0,\"ticks\":\"\"}}],\"contour\":[{\"type\":\"contour\",\"colorbar\":{\"outlinewidth\":0,\"ticks\":\"\"},\"colorscale\":[[0.0,\"#0d0887\"],[0.1111111111111111,\"#46039f\"],[0.2222222222222222,\"#7201a8\"],[0.3333333333333333,\"#9c179e\"],[0.4444444444444444,\"#bd3786\"],[0.5555555555555556,\"#d8576b\"],[0.6666666666666666,\"#ed7953\"],[0.7777777777777778,\"#fb9f3a\"],[0.8888888888888888,\"#fdca26\"],[1.0,\"#f0f921\"]]}],\"surface\":[{\"type\":\"surface\",\"colorbar\":{\"outlinewidth\":0,\"ticks\":\"\"},\"colorscale\":[[0.0,\"#0d0887\"],[0.1111111111111111,\"#46039f\"],[0.2222222222222222,\"#7201a8\"],[0.3333333333333333,\"#9c179e\"],[0.4444444444444444,\"#bd3786\"],[0.5555555555555556,\"#d8576b\"],[0.6666666666666666,\"#ed7953\"],[0.7777777777777778,\"#fb9f3a\"],[0.8888888888888888,\"#fdca26\"],[1.0,\"#f0f921\"]]}],\"mesh3d\":[{\"type\":\"mesh3d\",\"colorbar\":{\"outlinewidth\":0,\"ticks\":\"\"}}],\"scatter\":[{\"fillpattern\":{\"fillmode\":\"overlay\",\"size\":10,\"solidity\":0.2},\"type\":\"scatter\"}],\"parcoords\":[{\"type\":\"parcoords\",\"line\":{\"colorbar\":{\"outlinewidth\":0,\"ticks\":\"\"}}}],\"scatterpolargl\":[{\"type\":\"scatterpolargl\",\"marker\":{\"colorbar\":{\"outlinewidth\":0,\"ticks\":\"\"}}}],\"bar\":[{\"error_x\":{\"color\":\"#2a3f5f\"},\"error_y\":{\"color\":\"#2a3f5f\"},\"marker\":{\"line\":{\"color\":\"#E5ECF6\",\"width\":0.5},\"pattern\":{\"fillmode\":\"overlay\",\"size\":10,\"solidity\":0.2}},\"type\":\"bar\"}],\"scattergeo\":[{\"type\":\"scattergeo\",\"marker\":{\"colorbar\":{\"outlinewidth\":0,\"ticks\":\"\"}}}],\"scatterpolar\":[{\"type\":\"scatterpolar\",\"marker\":{\"colorbar\":{\"outlinewidth\":0,\"ticks\":\"\"}}}],\"histogram\":[{\"marker\":{\"pattern\":{\"fillmode\":\"overlay\",\"size\":10,\"solidity\":0.2}},\"type\":\"histogram\"}],\"scattergl\":[{\"type\":\"scattergl\",\"marker\":{\"colorbar\":{\"outlinewidth\":0,\"ticks\":\"\"}}}],\"scatter3d\":[{\"type\":\"scatter3d\",\"line\":{\"colorbar\":{\"outlinewidth\":0,\"ticks\":\"\"}},\"marker\":{\"colorbar\":{\"outlinewidth\":0,\"ticks\":\"\"}}}],\"scattermapbox\":[{\"type\":\"scattermapbox\",\"marker\":{\"colorbar\":{\"outlinewidth\":0,\"ticks\":\"\"}}}],\"scatterternary\":[{\"type\":\"scatterternary\",\"marker\":{\"colorbar\":{\"outlinewidth\":0,\"ticks\":\"\"}}}],\"scattercarpet\":[{\"type\":\"scattercarpet\",\"marker\":{\"colorbar\":{\"outlinewidth\":0,\"ticks\":\"\"}}}],\"carpet\":[{\"aaxis\":{\"endlinecolor\":\"#2a3f5f\",\"gridcolor\":\"white\",\"linecolor\":\"white\",\"minorgridcolor\":\"white\",\"startlinecolor\":\"#2a3f5f\"},\"baxis\":{\"endlinecolor\":\"#2a3f5f\",\"gridcolor\":\"white\",\"linecolor\":\"white\",\"minorgridcolor\":\"white\",\"startlinecolor\":\"#2a3f5f\"},\"type\":\"carpet\"}],\"table\":[{\"cells\":{\"fill\":{\"color\":\"#EBF0F8\"},\"line\":{\"color\":\"white\"}},\"header\":{\"fill\":{\"color\":\"#C8D4E3\"},\"line\":{\"color\":\"white\"}},\"type\":\"table\"}],\"barpolar\":[{\"marker\":{\"line\":{\"color\":\"#E5ECF6\",\"width\":0.5},\"pattern\":{\"fillmode\":\"overlay\",\"size\":10,\"solidity\":0.2}},\"type\":\"barpolar\"}],\"pie\":[{\"automargin\":true,\"type\":\"pie\"}]},\"layout\":{\"autotypenumbers\":\"strict\",\"colorway\":[\"#636efa\",\"#EF553B\",\"#00cc96\",\"#ab63fa\",\"#FFA15A\",\"#19d3f3\",\"#FF6692\",\"#B6E880\",\"#FF97FF\",\"#FECB52\"],\"font\":{\"color\":\"#2a3f5f\"},\"hovermode\":\"closest\",\"hoverlabel\":{\"align\":\"left\"},\"paper_bgcolor\":\"white\",\"plot_bgcolor\":\"#E5ECF6\",\"polar\":{\"bgcolor\":\"#E5ECF6\",\"angularaxis\":{\"gridcolor\":\"white\",\"linecolor\":\"white\",\"ticks\":\"\"},\"radialaxis\":{\"gridcolor\":\"white\",\"linecolor\":\"white\",\"ticks\":\"\"}},\"ternary\":{\"bgcolor\":\"#E5ECF6\",\"aaxis\":{\"gridcolor\":\"white\",\"linecolor\":\"white\",\"ticks\":\"\"},\"baxis\":{\"gridcolor\":\"white\",\"linecolor\":\"white\",\"ticks\":\"\"},\"caxis\":{\"gridcolor\":\"white\",\"linecolor\":\"white\",\"ticks\":\"\"}},\"coloraxis\":{\"colorbar\":{\"outlinewidth\":0,\"ticks\":\"\"}},\"colorscale\":{\"sequential\":[[0.0,\"#0d0887\"],[0.1111111111111111,\"#46039f\"],[0.2222222222222222,\"#7201a8\"],[0.3333333333333333,\"#9c179e\"],[0.4444444444444444,\"#bd3786\"],[0.5555555555555556,\"#d8576b\"],[0.6666666666666666,\"#ed7953\"],[0.7777777777777778,\"#fb9f3a\"],[0.8888888888888888,\"#fdca26\"],[1.0,\"#f0f921\"]],\"sequentialminus\":[[0.0,\"#0d0887\"],[0.1111111111111111,\"#46039f\"],[0.2222222222222222,\"#7201a8\"],[0.3333333333333333,\"#9c179e\"],[0.4444444444444444,\"#bd3786\"],[0.5555555555555556,\"#d8576b\"],[0.6666666666666666,\"#ed7953\"],[0.7777777777777778,\"#fb9f3a\"],[0.8888888888888888,\"#fdca26\"],[1.0,\"#f0f921\"]],\"diverging\":[[0,\"#8e0152\"],[0.1,\"#c51b7d\"],[0.2,\"#de77ae\"],[0.3,\"#f1b6da\"],[0.4,\"#fde0ef\"],[0.5,\"#f7f7f7\"],[0.6,\"#e6f5d0\"],[0.7,\"#b8e186\"],[0.8,\"#7fbc41\"],[0.9,\"#4d9221\"],[1,\"#276419\"]]},\"xaxis\":{\"gridcolor\":\"white\",\"linecolor\":\"white\",\"ticks\":\"\",\"title\":{\"standoff\":15},\"zerolinecolor\":\"white\",\"automargin\":true,\"zerolinewidth\":2},\"yaxis\":{\"gridcolor\":\"white\",\"linecolor\":\"white\",\"ticks\":\"\",\"title\":{\"standoff\":15},\"zerolinecolor\":\"white\",\"automargin\":true,\"zerolinewidth\":2},\"scene\":{\"xaxis\":{\"backgroundcolor\":\"#E5ECF6\",\"gridcolor\":\"white\",\"linecolor\":\"white\",\"showbackground\":true,\"ticks\":\"\",\"zerolinecolor\":\"white\",\"gridwidth\":2},\"yaxis\":{\"backgroundcolor\":\"#E5ECF6\",\"gridcolor\":\"white\",\"linecolor\":\"white\",\"showbackground\":true,\"ticks\":\"\",\"zerolinecolor\":\"white\",\"gridwidth\":2},\"zaxis\":{\"backgroundcolor\":\"#E5ECF6\",\"gridcolor\":\"white\",\"linecolor\":\"white\",\"showbackground\":true,\"ticks\":\"\",\"zerolinecolor\":\"white\",\"gridwidth\":2}},\"shapedefaults\":{\"line\":{\"color\":\"#2a3f5f\"}},\"annotationdefaults\":{\"arrowcolor\":\"#2a3f5f\",\"arrowhead\":0,\"arrowwidth\":1},\"geo\":{\"bgcolor\":\"white\",\"landcolor\":\"#E5ECF6\",\"subunitcolor\":\"white\",\"showland\":true,\"showlakes\":true,\"lakecolor\":\"white\"},\"title\":{\"x\":0.05},\"mapbox\":{\"style\":\"light\"}}},\"xaxis\":{\"title\":{\"text\":\"Ann\\u00e9e\"},\"type\":\"category\",\"categoryorder\":\"total descending\",\"dtick\":5},\"title\":{\"text\":\"Consommation de p\\u00e9trole en Afrique\"},\"yaxis\":{\"title\":{\"text\":\"Consommation de p\\u00e9trole\"}}},                        {\"responsive\": true}                    ).then(function(){\n",
       "                            \n",
       "var gd = document.getElementById('d5196a53-341c-47a7-a945-1483f724ad93');\n",
       "var x = new MutationObserver(function (mutations, observer) {{\n",
       "        var display = window.getComputedStyle(gd).display;\n",
       "        if (!display || display === 'none') {{\n",
       "            console.log([gd, 'removed!']);\n",
       "            Plotly.purge(gd);\n",
       "            observer.disconnect();\n",
       "        }}\n",
       "}});\n",
       "\n",
       "// Listen for the removal of the full notebook cells\n",
       "var notebookContainer = gd.closest('#notebook-container');\n",
       "if (notebookContainer) {{\n",
       "    x.observe(notebookContainer, {childList: true});\n",
       "}}\n",
       "\n",
       "// Listen for the clearing of the current output cell\n",
       "var outputEl = gd.closest('.output');\n",
       "if (outputEl) {{\n",
       "    x.observe(outputEl, {childList: true});\n",
       "}}\n",
       "\n",
       "                        })                };                });            </script>        </div>"
      ]
     },
     "metadata": {},
     "output_type": "display_data"
    }
   ],
   "source": [
    "\n",
    "import plotly.express as px\n",
    "import plotly.graph_objects as go\n",
    "\n",
    "# Filtrer les données pour obtenir deux DataFrames distincts : avant et après 2000\n",
    "fuel_before_2000 = fuel_afrique[fuel_afrique['year'] < 2000]\n",
    "fuel_after_2000 = fuel_afrique[fuel_afrique['year'] >= 2000]\n",
    "\n",
    "# Calculer la somme de la consommation de pétrole par année pour chaque DataFrame\n",
    "consumption_before_2000 = fuel_before_2000.groupby('year')['oil_consumption'].sum()\n",
    "consumption_after_2000 = fuel_after_2000.groupby('year')['oil_consumption'].sum()\n",
    "\n",
    "# Créer un graphique interactif avec Plotly\n",
    "fig = go.Figure()\n",
    "\n",
    "# Ajouter une trace pour la consommation avant 2000\n",
    "fig.add_trace(go.Scatter(x=consumption_before_2000.index, y=consumption_before_2000.values, mode='lines', name='Consommation avant 2000'))\n",
    "\n",
    "# Ajouter une trace pour la consommation après 2000\n",
    "fig.add_trace(go.Scatter(x=consumption_after_2000.index, y=consumption_after_2000.values, mode='lines', name='Consommation après 2000', line=dict(color='orange')))\n",
    "\n",
    "# Mettre en forme les étiquettes des axes et le titre\n",
    "fig.update_layout(\n",
    "    title='Consommation de pétrole en Afrique',\n",
    "    xaxis_title='Année',\n",
    "    yaxis_title='Consommation de pétrole',\n",
    "    xaxis=dict(type='category', categoryorder='total descending', dtick=5),\n",
    ")\n",
    "\n",
    "# Afficher le graphique interactif\n",
    "fig.show()\n",
    "\n"
   ]
  },
  {
   "cell_type": "code",
   "execution_count": 135,
   "id": "985dd860",
   "metadata": {},
   "outputs": [
    {
     "data": {
      "text/html": [
       "<div>\n",
       "<style scoped>\n",
       "    .dataframe tbody tr th:only-of-type {\n",
       "        vertical-align: middle;\n",
       "    }\n",
       "\n",
       "    .dataframe tbody tr th {\n",
       "        vertical-align: top;\n",
       "    }\n",
       "\n",
       "    .dataframe thead th {\n",
       "        text-align: right;\n",
       "    }\n",
       "</style>\n",
       "<table border=\"1\" class=\"dataframe\">\n",
       "  <thead>\n",
       "    <tr style=\"text-align: right;\">\n",
       "      <th></th>\n",
       "      <th>country</th>\n",
       "      <th>year</th>\n",
       "      <th>oil_consumption</th>\n",
       "      <th>oil_production</th>\n",
       "    </tr>\n",
       "  </thead>\n",
       "  <tbody>\n",
       "    <tr>\n",
       "      <th>185</th>\n",
       "      <td>africa</td>\n",
       "      <td>1965</td>\n",
       "      <td>325.901</td>\n",
       "      <td>1233.096</td>\n",
       "    </tr>\n",
       "    <tr>\n",
       "      <th>186</th>\n",
       "      <td>africa</td>\n",
       "      <td>1966</td>\n",
       "      <td>356.710</td>\n",
       "      <td>1569.275</td>\n",
       "    </tr>\n",
       "    <tr>\n",
       "      <th>187</th>\n",
       "      <td>africa</td>\n",
       "      <td>1967</td>\n",
       "      <td>353.833</td>\n",
       "      <td>1726.330</td>\n",
       "    </tr>\n",
       "    <tr>\n",
       "      <th>188</th>\n",
       "      <td>africa</td>\n",
       "      <td>1968</td>\n",
       "      <td>373.394</td>\n",
       "      <td>2212.528</td>\n",
       "    </tr>\n",
       "    <tr>\n",
       "      <th>189</th>\n",
       "      <td>africa</td>\n",
       "      <td>1969</td>\n",
       "      <td>378.536</td>\n",
       "      <td>2813.719</td>\n",
       "    </tr>\n",
       "    <tr>\n",
       "      <th>...</th>\n",
       "      <td>...</td>\n",
       "      <td>...</td>\n",
       "      <td>...</td>\n",
       "      <td>...</td>\n",
       "    </tr>\n",
       "    <tr>\n",
       "      <th>16803</th>\n",
       "      <td>vietnam</td>\n",
       "      <td>2015</td>\n",
       "      <td>251.063</td>\n",
       "      <td>199.351</td>\n",
       "    </tr>\n",
       "    <tr>\n",
       "      <th>16804</th>\n",
       "      <td>vietnam</td>\n",
       "      <td>2016</td>\n",
       "      <td>264.637</td>\n",
       "      <td>180.100</td>\n",
       "    </tr>\n",
       "    <tr>\n",
       "      <th>16805</th>\n",
       "      <td>vietnam</td>\n",
       "      <td>2017</td>\n",
       "      <td>273.223</td>\n",
       "      <td>160.814</td>\n",
       "    </tr>\n",
       "    <tr>\n",
       "      <th>16806</th>\n",
       "      <td>vietnam</td>\n",
       "      <td>2018</td>\n",
       "      <td>284.293</td>\n",
       "      <td>144.094</td>\n",
       "    </tr>\n",
       "    <tr>\n",
       "      <th>16807</th>\n",
       "      <td>vietnam</td>\n",
       "      <td>2019</td>\n",
       "      <td>296.583</td>\n",
       "      <td>132.857</td>\n",
       "    </tr>\n",
       "  </tbody>\n",
       "</table>\n",
       "<p>2432 rows × 4 columns</p>\n",
       "</div>"
      ],
      "text/plain": [
       "       country  year  oil_consumption  oil_production\n",
       "185     africa  1965          325.901        1233.096\n",
       "186     africa  1966          356.710        1569.275\n",
       "187     africa  1967          353.833        1726.330\n",
       "188     africa  1968          373.394        2212.528\n",
       "189     africa  1969          378.536        2813.719\n",
       "...        ...   ...              ...             ...\n",
       "16803  vietnam  2015          251.063         199.351\n",
       "16804  vietnam  2016          264.637         180.100\n",
       "16805  vietnam  2017          273.223         160.814\n",
       "16806  vietnam  2018          284.293         144.094\n",
       "16807  vietnam  2019          296.583         132.857\n",
       "\n",
       "[2432 rows x 4 columns]"
      ]
     },
     "execution_count": 135,
     "metadata": {},
     "output_type": "execute_result"
    }
   ],
   "source": [
    "# Convertir les valeurs de la colonne 'country' en minuscules\n",
    "fuel['country'] = fuel['country'].str.lower()\n",
    "\n",
    "# Sélectionner les lignes où la colonne 'country' contient 'afrique'\n",
    "fuel_afrique = fuel[fuel['country'] == 'afrique']\n",
    "fuel"
   ]
  },
  {
   "cell_type": "code",
   "execution_count": null,
   "id": "f1827914",
   "metadata": {},
   "outputs": [],
   "source": []
  }
 ],
 "metadata": {
  "kernelspec": {
   "display_name": "Python 3 (ipykernel)",
   "language": "python",
   "name": "python3"
  },
  "language_info": {
   "codemirror_mode": {
    "name": "ipython",
    "version": 3
   },
   "file_extension": ".py",
   "mimetype": "text/x-python",
   "name": "python",
   "nbconvert_exporter": "python",
   "pygments_lexer": "ipython3",
   "version": "3.11.4"
  }
 },
 "nbformat": 4,
 "nbformat_minor": 5
}
